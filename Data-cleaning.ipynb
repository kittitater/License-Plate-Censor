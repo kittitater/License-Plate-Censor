{
 "cells": [
  {
   "cell_type": "markdown",
   "metadata": {},
   "source": [
    "# Data Cleaning Pipeline"
   ]
  },
  {
   "cell_type": "code",
   "execution_count": 1,
   "metadata": {},
   "outputs": [],
   "source": [
    "import pandas as pd, numpy as np, re, ast, logging\n",
    "from typing import List\n",
    "logging.basicConfig(level=logging.INFO, format=\"%(levelname)s | %(message)s\")\n",
    "log = logging.getLogger(\"clean\")\n",
    "RAW_PATH   = \"dataset.csv\"\n",
    "CLEAN_PATH = \"cleaned-dataset.csv\""
   ]
  },
  {
   "cell_type": "markdown",
   "metadata": {},
   "source": [
    "## 1  Load raw dataset & inspect"
   ]
  },
  {
   "cell_type": "code",
   "execution_count": 2,
   "metadata": {},
   "outputs": [
    {
     "data": {
      "text/html": [
       "<div>\n",
       "<style scoped>\n",
       "    .dataframe tbody tr th:only-of-type {\n",
       "        vertical-align: middle;\n",
       "    }\n",
       "\n",
       "    .dataframe tbody tr th {\n",
       "        vertical-align: top;\n",
       "    }\n",
       "\n",
       "    .dataframe thead th {\n",
       "        text-align: right;\n",
       "    }\n",
       "</style>\n",
       "<table border=\"1\" class=\"dataframe\">\n",
       "  <thead>\n",
       "    <tr style=\"text-align: right;\">\n",
       "      <th></th>\n",
       "      <th>movie title</th>\n",
       "      <th>Run Time</th>\n",
       "      <th>Rating</th>\n",
       "      <th>User Rating</th>\n",
       "      <th>Generes</th>\n",
       "      <th>Overview</th>\n",
       "      <th>Plot Kyeword</th>\n",
       "      <th>Director</th>\n",
       "      <th>Top 5 Casts</th>\n",
       "      <th>Writer</th>\n",
       "      <th>year</th>\n",
       "      <th>path</th>\n",
       "    </tr>\n",
       "  </thead>\n",
       "  <tbody>\n",
       "    <tr>\n",
       "      <th>0</th>\n",
       "      <td>Top Gun: Maverick</td>\n",
       "      <td>$170,000,000 (estimated)</td>\n",
       "      <td>8.6</td>\n",
       "      <td>187K</td>\n",
       "      <td>['Action', 'Drama']</td>\n",
       "      <td>After more than thirty years of service as one...</td>\n",
       "      <td>['fighter jet', 'sequel', 'u.s. navy', 'fighte...</td>\n",
       "      <td>Joseph Kosinski</td>\n",
       "      <td>['Jack Epps Jr.', 'Peter Craig', 'Tom Cruise',...</td>\n",
       "      <td>Jim Cash</td>\n",
       "      <td>-2022</td>\n",
       "      <td>/title/tt1745960/</td>\n",
       "    </tr>\n",
       "    <tr>\n",
       "      <th>1</th>\n",
       "      <td>Jurassic World Dominion</td>\n",
       "      <td>2 hours 27 minutes</td>\n",
       "      <td>6</td>\n",
       "      <td>56K</td>\n",
       "      <td>['Action', 'Adventure', 'Sci-Fi']</td>\n",
       "      <td>Four years after the destruction of Isla Nubla...</td>\n",
       "      <td>['dinosaur', 'jurassic park', 'tyrannosaurus r...</td>\n",
       "      <td>Colin Trevorrow</td>\n",
       "      <td>['Colin Trevorrow', 'Derek Connolly', 'Chris P...</td>\n",
       "      <td>Emily Carmichael</td>\n",
       "      <td>-2022</td>\n",
       "      <td>/title/tt8041270/</td>\n",
       "    </tr>\n",
       "    <tr>\n",
       "      <th>2</th>\n",
       "      <td>Top Gun</td>\n",
       "      <td>$15,000,000 (estimated)</td>\n",
       "      <td>6.9</td>\n",
       "      <td>380K</td>\n",
       "      <td>['Action', 'Drama']</td>\n",
       "      <td>As students at the United States Navy's elite ...</td>\n",
       "      <td>['pilot', 'male camaraderie', 'u.s. navy', 'gr...</td>\n",
       "      <td>Tony Scott</td>\n",
       "      <td>['Jack Epps Jr.', 'Ehud Yonay', 'Tom Cruise', ...</td>\n",
       "      <td>Jim Cash</td>\n",
       "      <td>-1986</td>\n",
       "      <td>/title/tt0092099/</td>\n",
       "    </tr>\n",
       "  </tbody>\n",
       "</table>\n",
       "</div>"
      ],
      "text/plain": [
       "               movie title                  Run Time Rating User Rating  \\\n",
       "0        Top Gun: Maverick  $170,000,000 (estimated)    8.6        187K   \n",
       "1  Jurassic World Dominion        2 hours 27 minutes      6         56K   \n",
       "2                  Top Gun   $15,000,000 (estimated)    6.9        380K   \n",
       "\n",
       "                             Generes  \\\n",
       "0                ['Action', 'Drama']   \n",
       "1  ['Action', 'Adventure', 'Sci-Fi']   \n",
       "2                ['Action', 'Drama']   \n",
       "\n",
       "                                            Overview  \\\n",
       "0  After more than thirty years of service as one...   \n",
       "1  Four years after the destruction of Isla Nubla...   \n",
       "2  As students at the United States Navy's elite ...   \n",
       "\n",
       "                                        Plot Kyeword         Director  \\\n",
       "0  ['fighter jet', 'sequel', 'u.s. navy', 'fighte...  Joseph Kosinski   \n",
       "1  ['dinosaur', 'jurassic park', 'tyrannosaurus r...  Colin Trevorrow   \n",
       "2  ['pilot', 'male camaraderie', 'u.s. navy', 'gr...       Tony Scott   \n",
       "\n",
       "                                         Top 5 Casts            Writer   year  \\\n",
       "0  ['Jack Epps Jr.', 'Peter Craig', 'Tom Cruise',...          Jim Cash  -2022   \n",
       "1  ['Colin Trevorrow', 'Derek Connolly', 'Chris P...  Emily Carmichael  -2022   \n",
       "2  ['Jack Epps Jr.', 'Ehud Yonay', 'Tom Cruise', ...          Jim Cash  -1986   \n",
       "\n",
       "                path  \n",
       "0  /title/tt1745960/  \n",
       "1  /title/tt8041270/  \n",
       "2  /title/tt0092099/  "
      ]
     },
     "metadata": {},
     "output_type": "display_data"
    },
    {
     "name": "stdout",
     "output_type": "stream",
     "text": [
      "<class 'pandas.core.frame.DataFrame'>\n",
      "RangeIndex: 24402 entries, 0 to 24401\n",
      "Data columns (total 12 columns):\n",
      " #   Column        Non-Null Count  Dtype \n",
      "---  ------        --------------  ----- \n",
      " 0   movie title   24402 non-null  object\n",
      " 1   Run Time      24402 non-null  object\n",
      " 2   Rating        24402 non-null  object\n",
      " 3   User Rating   24402 non-null  object\n",
      " 4   Generes       24402 non-null  object\n",
      " 5   Overview      24158 non-null  object\n",
      " 6   Plot Kyeword  24402 non-null  object\n",
      " 7   Director      24402 non-null  object\n",
      " 8   Top 5 Casts   24402 non-null  object\n",
      " 9   Writer        24402 non-null  object\n",
      " 10  year          23624 non-null  object\n",
      " 11  path          24402 non-null  object\n",
      "dtypes: object(12)\n",
      "memory usage: 2.2+ MB\n"
     ]
    },
    {
     "data": {
      "text/plain": [
       "None"
      ]
     },
     "metadata": {},
     "output_type": "display_data"
    }
   ],
   "source": [
    "df = pd.read_csv(RAW_PATH)\n",
    "display(df.head(3)); display(df.info())"
   ]
  },
  {
   "cell_type": "markdown",
   "metadata": {},
   "source": [
    "## 2  Column hygiene – snake_case + typo fixes"
   ]
  },
  {
   "cell_type": "code",
   "execution_count": 3,
   "metadata": {},
   "outputs": [],
   "source": [
    "df.columns = (df.columns\n",
    "                .str.strip()\n",
    "                .str.lower()\n",
    "                .str.replace(\" \", \"_\"))\n",
    "df = df.rename(columns={\"plot_kyeword\": \"plot_keyword\",\n",
    "                        \"generes\": \"genres\"})"
   ]
  },
  {
   "cell_type": "markdown",
   "metadata": {},
   "source": [
    "## 3  Numeric parsing – `rating` & `votes`"
   ]
  },
  {
   "cell_type": "code",
   "execution_count": 4,
   "metadata": {},
   "outputs": [],
   "source": [
    "df[\"rating\"] = pd.to_numeric(df[\"rating\"], errors=\"coerce\")\n",
    "def parse_votes(v):\n",
    "    if pd.isna(v): return None\n",
    "    if isinstance(v, (int, float)): return int(v)\n",
    "    v = (str(v).strip().upper()\n",
    "                    .replace(\",\", \"\")\n",
    "                    .replace(\"M\", \"000000\")\n",
    "                    .replace(\"K\", \"000\"))\n",
    "    try: return int(float(v))\n",
    "    except ValueError: return None\n",
    "df[\"votes\"] = df[\"user_rating\"].apply(parse_votes)"
   ]
  },
  {
   "cell_type": "markdown",
   "metadata": {},
   "source": [
    "## 4 Runtime & Budget extraction (future‑proofing!)"
   ]
  },
  {
   "cell_type": "markdown",
   "metadata": {},
   "source": [
    "Even if the first version of this project **doesn't use runtime or budget**,  \n",
    "capturing them now costs almost nothing and prevents re‑processing when someone asks:  \n",
    "* \"Filter movies under 100 min\"  \n",
    "* \"Random film that cost > \\$100 M\"  "
   ]
  },
  {
   "cell_type": "code",
   "execution_count": 5,
   "metadata": {},
   "outputs": [],
   "source": [
    "run_re = re.compile(r\"(?:(\\d+)\\s*hours?)?\\s*(?:(\\d+)\\s*minutes?)?\", re.I)\n",
    "def runtime_min(txt):\n",
    "    if pd.isna(txt): return None\n",
    "    m = run_re.search(str(txt))\n",
    "    if m and (m.group(1) or m.group(2)):\n",
    "        h = int(m.group(1) or 0); m_ = int(m.group(2) or 0)\n",
    "        return h*60 + m_\n",
    "    try: return int(float(str(txt).replace(\",\", \"\")))\n",
    "    except ValueError: return None\n",
    "def budget_usd(txt):\n",
    "    if pd.isna(txt): return None\n",
    "    m = re.search(r\"\\$([\\d,]+)\", str(txt))\n",
    "    return int(m.group(1).replace(\",\", \"\")) if m else None\n",
    "df[\"runtime_min\"] = df[\"run_time\"].apply(runtime_min)\n",
    "df[\"budget_usd\"]  = df[\"run_time\"].apply(budget_usd)"
   ]
  },
  {
   "cell_type": "markdown",
   "metadata": {},
   "source": [
    "## 5  Fix `year` and convert stringified lists"
   ]
  },
  {
   "cell_type": "code",
   "execution_count": 6,
   "metadata": {},
   "outputs": [],
   "source": [
    "df[\"year\"] = (pd.to_numeric(df[\"year\"].astype(str)\n",
    "                                         .str.replace(r\"[^0-9]\", \"\", regex=True),\n",
    "                            errors=\"coerce\")\n",
    "               .astype(\"Int64\"))\n",
    "def safe_eval(x): \n",
    "    try: return ast.literal_eval(x) if pd.notna(x) else []\n",
    "    except Exception: return []\n",
    "for col in [\"genres\", \"plot_keyword\", \"top_5_casts\"]:\n",
    "    df[col] = df[col].apply(safe_eval)"
   ]
  },
  {
   "cell_type": "markdown",
   "metadata": {},
   "source": [
    "## 6  Clean actor names in top_5_casts"
   ]
  },
  {
   "cell_type": "code",
   "execution_count": 7,
   "metadata": {},
   "outputs": [],
   "source": [
    "def clean_actor_lists(actor_list):\n",
    "    \"\"\"Clean each actor name and filter out empty ones\"\"\"\n",
    "    if not actor_list:\n",
    "        return []\n",
    "    \n",
    "    # Clean each actor name\n",
    "    cleaned = []\n",
    "    for actor in actor_list:\n",
    "        if not actor or pd.isna(actor):\n",
    "            continue\n",
    "        \n",
    "        # Strip whitespace and handle any other needed cleaning\n",
    "        actor = str(actor).strip()\n",
    "        if actor:  # Only include non-empty strings\n",
    "            cleaned.append(actor)\n",
    "    \n",
    "    return cleaned\n",
    "\n",
    "# Apply the cleaning to top_5_casts\n",
    "df[\"top_5_casts\"] = df[\"top_5_casts\"].apply(clean_actor_lists)"
   ]
  },
  {
   "cell_type": "markdown",
   "metadata": {},
   "source": [
    "## 7  Drop dirty columns & de‑duplicate"
   ]
  },
  {
   "cell_type": "code",
   "execution_count": 8,
   "metadata": {},
   "outputs": [
    {
     "name": "stderr",
     "output_type": "stream",
     "text": [
      "INFO | Rows after cleaning: 23922\n"
     ]
    }
   ],
   "source": [
    "df = df.drop(columns={\"run_time\", \"overview\", \"path\"} & set(df.columns))\n",
    "df = df.drop_duplicates(subset=[\"movie_title\", \"year\"], keep=\"first\")\n",
    "log.info(\"Rows after cleaning: %d\", len(df))"
   ]
  },
  {
   "cell_type": "markdown",
   "metadata": {},
   "source": [
    "## 8  Save cleaned dataset"
   ]
  },
  {
   "cell_type": "code",
   "execution_count": 9,
   "metadata": {},
   "outputs": [
    {
     "name": "stderr",
     "output_type": "stream",
     "text": [
      "INFO | Saved cleaned-dataset.csv\n"
     ]
    }
   ],
   "source": [
    "df.to_csv(CLEAN_PATH, index=False)\n",
    "log.info(\"Saved %s\", CLEAN_PATH)"
   ]
  }
 ],
 "metadata": {
  "kernelspec": {
   "display_name": "Python 3 (ipykernel)",
   "language": "python",
   "name": "python3"
  },
  "language_info": {
   "codemirror_mode": {
    "name": "ipython",
    "version": 3
   },
   "file_extension": ".py",
   "mimetype": "text/x-python",
   "name": "python",
   "nbconvert_exporter": "python",
   "pygments_lexer": "ipython3",
   "version": "3.13.3"
  }
 },
 "nbformat": 4,
 "nbformat_minor": 4
}
