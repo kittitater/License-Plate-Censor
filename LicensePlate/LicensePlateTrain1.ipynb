{
 "cells": [
  {
   "cell_type": "code",
   "execution_count": 1,
   "id": "123fa86b",
   "metadata": {},
   "outputs": [],
   "source": [
    "!pip install ultralytics mlflow --quiet"
   ]
  },
  {
   "cell_type": "code",
   "execution_count": 2,
   "id": "d4d5d370",
   "metadata": {},
   "outputs": [
    {
     "name": "stdout",
     "output_type": "stream",
     "text": [
      "Ultralytics YOLOv8 version: 8.3.145\n",
      "CUDA available: True\n",
      "Ultralytics YOLOv8 version: 8.3.145\n"
     ]
    }
   ],
   "source": [
    "from ultralytics import YOLO\n",
    "import ultralytics\n",
    "import torch\n",
    "import mlflow\n",
    "import os\n",
    "import pandas as pd\n",
    "\n",
    "print(f\"Ultralytics YOLOv8 version: {ultralytics.__version__}\")\n",
    "print(\"CUDA available:\", torch.cuda.is_available())\n",
    "\n",
    "print(f\"Ultralytics YOLOv8 version: {ultralytics.__version__}\")"
   ]
  },
  {
   "cell_type": "code",
   "execution_count": 4,
   "id": "73e1e28e",
   "metadata": {},
   "outputs": [],
   "source": [
    "# Paths\n",
    "data_yaml_path = \"synthetic_data/data.yaml\"  # your dataset YAML\n",
    "run_name = \"lp-detector\"\n",
    "output_dir = f\"runs/detect/{run_name}\"\n",
    "\n",
    "# Hyperparameters\n",
    "params = {\n",
    "    \"model\": \"yolov8n.pt\",\n",
    "    \"data\": data_yaml_path,\n",
    "    \"epochs\": 50,\n",
    "    \"imgsz\": 640,\n",
    "    \"batch\": 16\n",
    "}\n"
   ]
  },
  {
   "cell_type": "code",
   "execution_count": null,
   "id": "249acbf3",
   "metadata": {},
   "outputs": [
    {
     "name": "stdout",
     "output_type": "stream",
     "text": [
      "Ultralytics 8.3.145  Python-3.12.3 torch-2.7.0+cu128 CUDA:0 (NVIDIA GeForce RTX 3070, 8192MiB)\n",
      "\u001b[34m\u001b[1mengine\\trainer: \u001b[0magnostic_nms=False, amp=True, augment=False, auto_augment=randaugment, batch=16, bgr=0.0, box=7.5, cache=False, cfg=None, classes=None, close_mosaic=10, cls=0.5, conf=None, copy_paste=0.0, copy_paste_mode=flip, cos_lr=False, cutmix=0.0, data=synthetic_data/data.yaml, degrees=0.0, deterministic=True, device=None, dfl=1.5, dnn=False, dropout=0.0, dynamic=False, embed=None, epochs=50, erasing=0.4, exist_ok=False, fliplr=0.5, flipud=0.0, format=torchscript, fraction=1.0, freeze=None, half=False, hsv_h=0.015, hsv_s=0.7, hsv_v=0.4, imgsz=640, int8=False, iou=0.7, keras=False, kobj=1.0, line_width=None, lr0=0.01, lrf=0.01, mask_ratio=4, max_det=300, mixup=0.0, mode=train, model=runs\\detect\\lp-detector15\\weights\\last.pt, momentum=0.937, mosaic=1.0, multi_scale=False, name=lp-detector15, nbs=64, nms=False, opset=None, optimize=False, optimizer=auto, overlap_mask=True, patience=100, perspective=0.0, plots=True, pose=12.0, pretrained=True, profile=False, project=None, rect=False, resume=runs\\detect\\lp-detector15\\weights\\last.pt, retina_masks=False, save=True, save_conf=False, save_crop=False, save_dir=runs\\detect\\lp-detector15, save_frames=False, save_json=False, save_period=-1, save_txt=False, scale=0.5, seed=0, shear=0.0, show=False, show_boxes=True, show_conf=True, show_labels=True, simplify=True, single_cls=False, source=None, split=val, stream_buffer=False, task=detect, time=None, tracker=botsort.yaml, translate=0.1, val=True, verbose=True, vid_stride=1, visualize=False, warmup_bias_lr=0.0, warmup_epochs=3.0, warmup_momentum=0.8, weight_decay=0.0005, workers=8, workspace=None\n",
      "\n",
      "                   from  n    params  module                                       arguments                     \n",
      "  0                  -1  1       464  ultralytics.nn.modules.conv.Conv             [3, 16, 3, 2]                 \n",
      "  1                  -1  1      4672  ultralytics.nn.modules.conv.Conv             [16, 32, 3, 2]                \n",
      "  2                  -1  1      7360  ultralytics.nn.modules.block.C2f             [32, 32, 1, True]             \n",
      "  3                  -1  1     18560  ultralytics.nn.modules.conv.Conv             [32, 64, 3, 2]                \n",
      "  4                  -1  2     49664  ultralytics.nn.modules.block.C2f             [64, 64, 2, True]             \n",
      "  5                  -1  1     73984  ultralytics.nn.modules.conv.Conv             [64, 128, 3, 2]               \n",
      "  6                  -1  2    197632  ultralytics.nn.modules.block.C2f             [128, 128, 2, True]           \n",
      "  7                  -1  1    295424  ultralytics.nn.modules.conv.Conv             [128, 256, 3, 2]              \n",
      "  8                  -1  1    460288  ultralytics.nn.modules.block.C2f             [256, 256, 1, True]           \n",
      "  9                  -1  1    164608  ultralytics.nn.modules.block.SPPF            [256, 256, 5]                 \n",
      " 10                  -1  1         0  torch.nn.modules.upsampling.Upsample         [None, 2, 'nearest']          \n",
      " 11             [-1, 6]  1         0  ultralytics.nn.modules.conv.Concat           [1]                           \n",
      " 12                  -1  1    148224  ultralytics.nn.modules.block.C2f             [384, 128, 1]                 \n",
      " 13                  -1  1         0  torch.nn.modules.upsampling.Upsample         [None, 2, 'nearest']          \n",
      " 14             [-1, 4]  1         0  ultralytics.nn.modules.conv.Concat           [1]                           \n",
      " 15                  -1  1     37248  ultralytics.nn.modules.block.C2f             [192, 64, 1]                  \n",
      " 16                  -1  1     36992  ultralytics.nn.modules.conv.Conv             [64, 64, 3, 2]                \n",
      " 17            [-1, 12]  1         0  ultralytics.nn.modules.conv.Concat           [1]                           \n",
      " 18                  -1  1    123648  ultralytics.nn.modules.block.C2f             [192, 128, 1]                 \n",
      " 19                  -1  1    147712  ultralytics.nn.modules.conv.Conv             [128, 128, 3, 2]              \n",
      " 20             [-1, 9]  1         0  ultralytics.nn.modules.conv.Concat           [1]                           \n",
      " 21                  -1  1    493056  ultralytics.nn.modules.block.C2f             [384, 256, 1]                 \n",
      " 22        [15, 18, 21]  1    751507  ultralytics.nn.modules.head.Detect           [1, [64, 128, 256]]           \n",
      "Model summary: 129 layers, 3,011,043 parameters, 3,011,027 gradients, 8.2 GFLOPs\n",
      "\n",
      "Transferred 355/355 items from pretrained weights\n",
      "Freezing layer 'model.22.dfl.conv.weight'\n",
      "\u001b[34m\u001b[1mAMP: \u001b[0mrunning Automatic Mixed Precision (AMP) checks...\n",
      "\u001b[34m\u001b[1mAMP: \u001b[0mchecks passed \n",
      "\u001b[34m\u001b[1mtrain: \u001b[0mFast image access  (ping: 0.10.0 ms, read: 276.3109.4 MB/s, size: 96.8 KB)\n"
     ]
    },
    {
     "name": "stderr",
     "output_type": "stream",
     "text": [
      "\u001b[34m\u001b[1mtrain: \u001b[0mScanning C:\\ML\\RandomTopMovie\\LicensePlate\\synthetic_data\\train\\labels.cache... 6501 images, 0 backgrounds, 0 corrupt: 100%|██████████| 6501/6501 [00:00<?, ?it/s]\n"
     ]
    },
    {
     "name": "stdout",
     "output_type": "stream",
     "text": [
      "\u001b[34m\u001b[1mval: \u001b[0mFast image access  (ping: 0.10.0 ms, read: 181.888.0 MB/s, size: 96.2 KB)\n"
     ]
    },
    {
     "name": "stderr",
     "output_type": "stream",
     "text": [
      "\u001b[34m\u001b[1mval: \u001b[0mScanning C:\\ML\\RandomTopMovie\\LicensePlate\\synthetic_data\\testval\\labels.cache... 2167 images, 0 backgrounds, 0 corrupt: 100%|██████████| 2167/2167 [00:00<?, ?it/s]\n"
     ]
    },
    {
     "name": "stdout",
     "output_type": "stream",
     "text": [
      "Plotting labels to runs\\detect\\lp-detector15\\labels.jpg... \n",
      "\u001b[34m\u001b[1moptimizer:\u001b[0m 'optimizer=auto' found, ignoring 'lr0=0.01' and 'momentum=0.937' and determining best 'optimizer', 'lr0' and 'momentum' automatically... \n",
      "\u001b[34m\u001b[1moptimizer:\u001b[0m AdamW(lr=0.002, momentum=0.9) with parameter groups 57 weight(decay=0.0), 64 weight(decay=0.0005), 63 bias(decay=0.0)\n",
      "Resuming training runs\\detect\\lp-detector15\\weights\\last.pt from epoch 41 to 50 total epochs\n",
      "\u001b[34m\u001b[1mMLflow: \u001b[0mlogging run_id(2bfa8886fb3b42a88b733bbdc64289dd) to runs\\mlflow\n",
      "\u001b[34m\u001b[1mMLflow: \u001b[0mview at http://127.0.0.1:5000 with 'mlflow server --backend-store-uri runs\\mlflow'\n",
      "\u001b[34m\u001b[1mMLflow: \u001b[0mdisable with 'yolo settings mlflow=False'\n",
      "Image sizes 640 train, 640 val\n",
      "Using 8 dataloader workers\n",
      "Logging results to \u001b[1mruns\\detect\\lp-detector15\u001b[0m\n",
      "Starting training for 50 epochs...\n",
      "Closing dataloader mosaic\n"
     ]
    }
   ],
   "source": [
    "# Load and train model\n",
    "model = YOLO(\"runs/detect/lp-detector15/weights/last.pt\")\n",
    "results = model.train(\n",
    "    data=params[\"data\"],\n",
    "    epochs=params[\"epochs\"],\n",
    "    imgsz=params[\"imgsz\"],\n",
    "    batch=params[\"batch\"],\n",
    "    name=run_name,\n",
    "    resume=True\n",
    ")\n",
    "\n",
    "print(\"✅ Training complete.\")"
   ]
  },
  {
   "cell_type": "code",
   "execution_count": null,
   "id": "a4d8aa10",
   "metadata": {},
   "outputs": [],
   "source": [
    "mlflow.set_experiment(\"YOLOv8-LicensePlate-Detection\")\n",
    "\n",
    "with mlflow.start_run(run_name=run_name):\n",
    "    # Log training parameters\n",
    "    mlflow.log_params(params)\n",
    "\n",
    "    # Paths to results\n",
    "    weights_dir = os.path.join(output_dir, \"weights\")\n",
    "    best_model = os.path.join(weights_dir, \"best.pt\")\n",
    "    last_model = os.path.join(weights_dir, \"last.pt\")\n",
    "    results_csv = os.path.join(output_dir, \"results.csv\")\n",
    "\n",
    "    # Log weights\n",
    "    mlflow.log_artifact(best_model, artifact_path=\"models\")\n",
    "    mlflow.log_artifact(last_model, artifact_path=\"models\")\n",
    "\n",
    "    # Log metrics from results.csv\n",
    "    if os.path.exists(results_csv):\n",
    "        df = pd.read_csv(results_csv)\n",
    "        last_row = df.iloc[-1].to_dict()\n",
    "        mlflow.log_metrics({k: v for k, v in last_row.items() if isinstance(v, (int, float))})\n",
    "        mlflow.log_artifact(results_csv, artifact_path=\"metrics\")\n",
    "\n",
    "    # Log output images\n",
    "    for file in os.listdir(output_dir):\n",
    "        if file.endswith((\".png\", \".jpg\")):\n",
    "            mlflow.log_artifact(os.path.join(output_dir, file), artifact_path=\"plots\")\n",
    "\n",
    "    print(\"✅ MLflow logging complete.\")\n"
   ]
  }
 ],
 "metadata": {
  "kernelspec": {
   "display_name": "base",
   "language": "python",
   "name": "python3"
  },
  "language_info": {
   "codemirror_mode": {
    "name": "ipython",
    "version": 3
   },
   "file_extension": ".py",
   "mimetype": "text/x-python",
   "name": "python",
   "nbconvert_exporter": "python",
   "pygments_lexer": "ipython3",
   "version": "3.12.3"
  }
 },
 "nbformat": 4,
 "nbformat_minor": 5
}
