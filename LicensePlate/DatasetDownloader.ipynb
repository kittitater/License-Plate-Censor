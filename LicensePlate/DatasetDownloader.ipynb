{
 "cells": [
  {
   "cell_type": "markdown",
   "id": "3ed67a33-20ef-4e9d-9196-155ddefcde02",
   "metadata": {},
   "source": [
    "## Main Dataset (Use this)"
   ]
  },
  {
   "cell_type": "code",
   "execution_count": null,
   "id": "1086d673-572a-4887-b96b-552a50343095",
   "metadata": {},
   "outputs": [
    {
     "name": "stderr",
     "output_type": "stream",
     "text": [
      "Downloading...\n",
      "From (original): https://drive.google.com/uc?id=1BRG3UOhDNGWQMIaQq4Cj1jW_TOU5QD_H\n",
      "From (redirected): https://drive.google.com/uc?id=1BRG3UOhDNGWQMIaQq4Cj1jW_TOU5QD_H&confirm=t&uuid=99f0da05-5cb0-49ec-8a24-12fe5c887c8e\n",
      "To: c:\\ML\\RandomTopMovie\\LicensePlate\\synthetic_data.zip\n",
      "100%|██████████| 1.17G/1.17G [00:15<00:00, 74.2MB/s]"
     ]
    },
    {
     "name": "stdout",
     "output_type": "stream",
     "text": [
      "Dataset downloaded and extracted to 'synthetic_data'\n"
     ]
    },
    {
     "name": "stderr",
     "output_type": "stream",
     "text": [
      "\n"
     ]
    }
   ],
   "source": [
    "import gdown\n",
    "import zipfile\n",
    "import os\n",
    "\n",
    "# Google Drive file ID from the shareable link\n",
    "# Example: https://drive.google.com/file/d/1BRG3UOhDNGWQMIaQq4Cj1jW_TOU5QD_H/view?usp=sharing\n",
    "file_id = \"1BRG3UOhDNGWQMIaQq4Cj1jW_TOU5QD_H\"\n",
    "output = \"synthetic_data.zip\"\n",
    "\n",
    "# Download file\n",
    "gdown.download(f\"https://drive.google.com/uc?id={file_id}\", output, quiet=False)\n",
    "print(\"Dataset downloaded and extracted to 'synthetic_data'\")\n"
   ]
  },
  {
   "cell_type": "markdown",
   "id": "a1056167-e86e-4870-8e7c-8c0a527ddbf8",
   "metadata": {},
   "source": [
    "## Raw Dataset (Safe to ignore)"
   ]
  },
  {
   "cell_type": "code",
   "execution_count": null,
   "id": "939c26e7-73b0-45fa-8f31-2188cc621901",
   "metadata": {},
   "outputs": [],
   "source": [
    "# Google Drive file ID from the shareable link\n",
    "# Example: https://drive.google.com/file/d/1-v067-Sp8ezSpCapMEc8-j6ZS2XEM-5x/view?usp=sharing\n",
    "file_id = \"1-v067-Sp8ezSpCapMEc8-j6ZS2XEM-5x\"\n",
    "output = \"Raw_data.zip\"\n",
    "\n",
    "# Download file\n",
    "gdown.download(f\"https://drive.google.com/uc?id={file_id}\", output, quiet=False)\n",
    "\n",
    "print(\"Dataset downloaded and extracted to 'synthetic_data'\")\n"
   ]
  }
 ],
 "metadata": {
  "kernelspec": {
   "display_name": "base",
   "language": "python",
   "name": "python3"
  },
  "language_info": {
   "codemirror_mode": {
    "name": "ipython",
    "version": 3
   },
   "file_extension": ".py",
   "mimetype": "text/x-python",
   "name": "python",
   "nbconvert_exporter": "python",
   "pygments_lexer": "ipython3",
   "version": "3.12.3"
  }
 },
 "nbformat": 4,
 "nbformat_minor": 5
}
