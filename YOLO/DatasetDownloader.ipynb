{
 "cells": [
  {
   "cell_type": "markdown",
   "id": "3ed67a33-20ef-4e9d-9196-155ddefcde02",
   "metadata": {},
   "source": [
    "## Main Dataset (Use this)"
   ]
  },
  {
   "cell_type": "code",
   "execution_count": 4,
   "id": "1086d673-572a-4887-b96b-552a50343095",
   "metadata": {},
   "outputs": [
    {
     "name": "stdout",
     "output_type": "stream",
     "text": [
      "synthetic_data.zip\n",
      "Dataset downloaded and extracted to 'synthetic_data'\n"
     ]
    }
   ],
   "source": [
    "import gdown\n",
    "import zipfile\n",
    "import os\n",
    "\n",
    "# Google Drive file ID from the shareable link\n",
    "# Example: https://drive.google.com/file/d/1BRG3UOhDNGWQMIaQq4Cj1jW_TOU5QD_H/view?usp=sharing\n",
    "file_id = \"1BRG3UOhDNGWQMIaQq4Cj1jW_TOU5QD_H\"\n",
    "output = \"synthetic_data.zip\"\n",
    "\n",
    "# Download file\n",
    "gdown.download(f\"https://drive.google.com/uc?id={file_id}\", output, quiet=False)\n",
    "\n",
    "print(\"Dataset downloaded and extracted to 'synthetic_data'\")\n"
   ]
  },
  {
   "cell_type": "markdown",
   "id": "a1056167-e86e-4870-8e7c-8c0a527ddbf8",
   "metadata": {},
   "source": [
    "## Raw Dataset (Safe to ignore)"
   ]
  },
  {
   "cell_type": "code",
   "execution_count": null,
   "id": "939c26e7-73b0-45fa-8f31-2188cc621901",
   "metadata": {},
   "outputs": [],
   "source": [
    "# Google Drive file ID from the shareable link\n",
    "# Example: https://drive.google.com/file/d/1-v067-Sp8ezSpCapMEc8-j6ZS2XEM-5x/view?usp=sharing\n",
    "file_id = \"1-v067-Sp8ezSpCapMEc8-j6ZS2XEM-5x\"\n",
    "output = \"Raw_data.zip\"\n",
    "\n",
    "# Download file\n",
    "gdown.download(f\"https://drive.google.com/uc?id={file_id}\", output, quiet=False)\n",
    "\n",
    "print(\"Dataset downloaded and extracted to 'synthetic_data'\")\n"
   ]
  }
 ],
 "metadata": {
  "kernelspec": {
   "display_name": "Python 3 (ipykernel)",
   "language": "python",
   "name": "python3"
  },
  "language_info": {
   "codemirror_mode": {
    "name": "ipython",
    "version": 3
   },
   "file_extension": ".py",
   "mimetype": "text/x-python",
   "name": "python",
   "nbconvert_exporter": "python",
   "pygments_lexer": "ipython3",
   "version": "3.12.7"
  }
 },
 "nbformat": 4,
 "nbformat_minor": 5
}
