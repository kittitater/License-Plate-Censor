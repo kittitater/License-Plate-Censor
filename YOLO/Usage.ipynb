{
 "cells": [
  {
   "cell_type": "code",
   "execution_count": 4,
   "id": "825994d5",
   "metadata": {},
   "outputs": [
    {
     "name": "stdout",
     "output_type": "stream",
     "text": [
      "Processing TestImg\\001.jpg...\n",
      "\n",
      "image 1/1 c:\\ML\\RandomTopMovie\\LicensePlate\\TestImg\\001.jpg: 640x480 1 license_plate, 5.7ms\n",
      "Speed: 1.4ms preprocess, 5.7ms inference, 1.1ms postprocess per image at shape (1, 3, 640, 480)\n",
      "Saved to Results\\001.jpg\n",
      "Processing TestImg\\002.jpg...\n",
      "\n",
      "image 1/1 c:\\ML\\RandomTopMovie\\LicensePlate\\TestImg\\002.jpg: 640x480 (no detections), 4.8ms\n",
      "Speed: 2.2ms preprocess, 4.8ms inference, 0.5ms postprocess per image at shape (1, 3, 640, 480)\n",
      "Saved to Results\\002.jpg\n",
      "Processing TestImg\\003.jpg...\n",
      "\n",
      "image 1/1 c:\\ML\\RandomTopMovie\\LicensePlate\\TestImg\\003.jpg: 640x480 2 license_plates, 4.7ms\n",
      "Speed: 2.8ms preprocess, 4.7ms inference, 2.0ms postprocess per image at shape (1, 3, 640, 480)\n",
      "Saved to Results\\003.jpg\n",
      "Processing TestImg\\004.jpg...\n",
      "\n",
      "image 1/1 c:\\ML\\RandomTopMovie\\LicensePlate\\TestImg\\004.jpg: 640x384 1 license_plate, 6.1ms\n",
      "Speed: 1.6ms preprocess, 6.1ms inference, 1.7ms postprocess per image at shape (1, 3, 640, 384)\n",
      "Saved to Results\\004.jpg\n",
      "Processing TestImg\\005.jpg...\n",
      "\n",
      "image 1/1 c:\\ML\\RandomTopMovie\\LicensePlate\\TestImg\\005.jpg: 480x640 2 license_plates, 6.7ms\n",
      "Speed: 1.7ms preprocess, 6.7ms inference, 1.2ms postprocess per image at shape (1, 3, 480, 640)\n",
      "Saved to Results\\005.jpg\n",
      "Processing TestImg\\006.jpg...\n",
      "\n",
      "image 1/1 c:\\ML\\RandomTopMovie\\LicensePlate\\TestImg\\006.jpg: 480x640 1 license_plate, 4.0ms\n",
      "Speed: 1.2ms preprocess, 4.0ms inference, 1.4ms postprocess per image at shape (1, 3, 480, 640)\n",
      "Saved to Results\\006.jpg\n",
      "Processing TestImg\\007.jpg...\n",
      "\n",
      "image 1/1 c:\\ML\\RandomTopMovie\\LicensePlate\\TestImg\\007.jpg: 384x640 3 license_plates, 5.6ms\n",
      "Speed: 1.1ms preprocess, 5.6ms inference, 1.5ms postprocess per image at shape (1, 3, 384, 640)\n",
      "Saved to Results\\007.jpg\n"
     ]
    }
   ],
   "source": [
    "import os\n",
    "from ultralytics import YOLO\n",
    "\n",
    "# Load your trained YOLO model\n",
    "model = YOLO(\"runs/detect/lp-detector_1748416799/weights/best.pt\")\n",
    "\n",
    "# Input and output folders\n",
    "input_folder = \"TestImg\"\n",
    "output_folder = \"Results\"\n",
    "\n",
    "# Create output folder if it doesn't exist\n",
    "os.makedirs(output_folder, exist_ok=True)\n",
    "\n",
    "# Loop through all test images\n",
    "for filename in sorted(os.listdir(input_folder)):\n",
    "    if filename.lower().endswith((\".jpg\", \".jpeg\", \".png\")):\n",
    "        img_path = os.path.join(input_folder, filename)\n",
    "        print(f\"Processing {img_path}...\")\n",
    "\n",
    "        # Run inference\n",
    "        results = model(img_path)\n",
    "\n",
    "        # Show result (optional)\n",
    "        results[0].show()\n",
    "\n",
    "        # Save result\n",
    "        output_path = os.path.join(output_folder, filename)\n",
    "        results[0].save(filename=output_path)\n",
    "        print(f\"Saved to {output_path}\")\n"
   ]
  }
 ],
 "metadata": {
  "kernelspec": {
   "display_name": "base",
   "language": "python",
   "name": "python3"
  },
  "language_info": {
   "codemirror_mode": {
    "name": "ipython",
    "version": 3
   },
   "file_extension": ".py",
   "mimetype": "text/x-python",
   "name": "python",
   "nbconvert_exporter": "python",
   "pygments_lexer": "ipython3",
   "version": "3.12.3"
  }
 },
 "nbformat": 4,
 "nbformat_minor": 5
}
