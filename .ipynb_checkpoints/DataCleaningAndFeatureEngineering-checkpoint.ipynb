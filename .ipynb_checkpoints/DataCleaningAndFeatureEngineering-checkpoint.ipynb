{
 "cells": [
  {
   "cell_type": "markdown",
   "id": "c5da5963-17e2-4185-9a93-c0fa655fec54",
   "metadata": {},
   "source": [
    "## Imports"
   ]
  },
  {
   "cell_type": "code",
   "execution_count": 1,
   "id": "342e61fd-7b00-4719-ae21-b0890877cdd7",
   "metadata": {},
   "outputs": [],
   "source": [
    "import pandas as pd\n",
    "import re\n",
    "import ast\n",
    "from collections import Counter\n",
    "import itertools"
   ]
  },
  {
   "cell_type": "markdown",
   "id": "33c7f0c6-8dcd-4d54-afd7-50a9a5ebae47",
   "metadata": {},
   "source": [
    "## Dataset Overview"
   ]
  },
  {
   "cell_type": "code",
   "execution_count": 2,
   "id": "8b5a4331-9c19-4d2b-a83a-ae4abfd2f224",
   "metadata": {
    "scrolled": true
   },
   "outputs": [
    {
     "data": {
      "text/html": [
       "<div>\n",
       "<style scoped>\n",
       "    .dataframe tbody tr th:only-of-type {\n",
       "        vertical-align: middle;\n",
       "    }\n",
       "\n",
       "    .dataframe tbody tr th {\n",
       "        vertical-align: top;\n",
       "    }\n",
       "\n",
       "    .dataframe thead th {\n",
       "        text-align: right;\n",
       "    }\n",
       "</style>\n",
       "<table border=\"1\" class=\"dataframe\">\n",
       "  <thead>\n",
       "    <tr style=\"text-align: right;\">\n",
       "      <th></th>\n",
       "      <th>movie title</th>\n",
       "      <th>Run Time</th>\n",
       "      <th>Rating</th>\n",
       "      <th>User Rating</th>\n",
       "      <th>Generes</th>\n",
       "      <th>Overview</th>\n",
       "      <th>Plot Kyeword</th>\n",
       "      <th>Director</th>\n",
       "      <th>Top 5 Casts</th>\n",
       "      <th>Writer</th>\n",
       "      <th>year</th>\n",
       "      <th>path</th>\n",
       "    </tr>\n",
       "  </thead>\n",
       "  <tbody>\n",
       "    <tr>\n",
       "      <th>0</th>\n",
       "      <td>Top Gun: Maverick</td>\n",
       "      <td>$170,000,000 (estimated)</td>\n",
       "      <td>8.6</td>\n",
       "      <td>187K</td>\n",
       "      <td>['Action', 'Drama']</td>\n",
       "      <td>After more than thirty years of service as one...</td>\n",
       "      <td>['fighter jet', 'sequel', 'u.s. navy', 'fighte...</td>\n",
       "      <td>Joseph Kosinski</td>\n",
       "      <td>['Jack Epps Jr.', 'Peter Craig', 'Tom Cruise',...</td>\n",
       "      <td>Jim Cash</td>\n",
       "      <td>-2022</td>\n",
       "      <td>/title/tt1745960/</td>\n",
       "    </tr>\n",
       "    <tr>\n",
       "      <th>1</th>\n",
       "      <td>Jurassic World Dominion</td>\n",
       "      <td>2 hours 27 minutes</td>\n",
       "      <td>6</td>\n",
       "      <td>56K</td>\n",
       "      <td>['Action', 'Adventure', 'Sci-Fi']</td>\n",
       "      <td>Four years after the destruction of Isla Nubla...</td>\n",
       "      <td>['dinosaur', 'jurassic park', 'tyrannosaurus r...</td>\n",
       "      <td>Colin Trevorrow</td>\n",
       "      <td>['Colin Trevorrow', 'Derek Connolly', 'Chris P...</td>\n",
       "      <td>Emily Carmichael</td>\n",
       "      <td>-2022</td>\n",
       "      <td>/title/tt8041270/</td>\n",
       "    </tr>\n",
       "    <tr>\n",
       "      <th>2</th>\n",
       "      <td>Top Gun</td>\n",
       "      <td>$15,000,000 (estimated)</td>\n",
       "      <td>6.9</td>\n",
       "      <td>380K</td>\n",
       "      <td>['Action', 'Drama']</td>\n",
       "      <td>As students at the United States Navy's elite ...</td>\n",
       "      <td>['pilot', 'male camaraderie', 'u.s. navy', 'gr...</td>\n",
       "      <td>Tony Scott</td>\n",
       "      <td>['Jack Epps Jr.', 'Ehud Yonay', 'Tom Cruise', ...</td>\n",
       "      <td>Jim Cash</td>\n",
       "      <td>-1986</td>\n",
       "      <td>/title/tt0092099/</td>\n",
       "    </tr>\n",
       "    <tr>\n",
       "      <th>3</th>\n",
       "      <td>Lightyear</td>\n",
       "      <td>$71,101,257</td>\n",
       "      <td>5.2</td>\n",
       "      <td>32K</td>\n",
       "      <td>['Animation', 'Action', 'Adventure']</td>\n",
       "      <td>While spending years attempting to return home...</td>\n",
       "      <td>['galaxy', 'spaceship', 'robot', 'rocket', 'sp...</td>\n",
       "      <td>Angus MacLane</td>\n",
       "      <td>['Jason Headley', 'Matthew Aldrich', 'Chris Ev...</td>\n",
       "      <td>Angus MacLane</td>\n",
       "      <td>-2022</td>\n",
       "      <td>/title/tt10298810/</td>\n",
       "    </tr>\n",
       "    <tr>\n",
       "      <th>4</th>\n",
       "      <td>Spiderhead</td>\n",
       "      <td>not-released</td>\n",
       "      <td>5.4</td>\n",
       "      <td>23K</td>\n",
       "      <td>['Action', 'Crime', 'Drama']</td>\n",
       "      <td>In the near future, convicts are offered the c...</td>\n",
       "      <td>['discover', 'medical', 'test', 'reality', 'fi...</td>\n",
       "      <td>Joseph Kosinski</td>\n",
       "      <td>['Rhett Reese', 'Paul Wernick', 'Chris Hemswor...</td>\n",
       "      <td>George Saunders</td>\n",
       "      <td>-2022</td>\n",
       "      <td>/title/tt9783600/</td>\n",
       "    </tr>\n",
       "  </tbody>\n",
       "</table>\n",
       "</div>"
      ],
      "text/plain": [
       "               movie title                  Run Time Rating User Rating  \\\n",
       "0        Top Gun: Maverick  $170,000,000 (estimated)    8.6        187K   \n",
       "1  Jurassic World Dominion        2 hours 27 minutes      6         56K   \n",
       "2                  Top Gun   $15,000,000 (estimated)    6.9        380K   \n",
       "3                Lightyear               $71,101,257    5.2         32K   \n",
       "4               Spiderhead              not-released    5.4         23K   \n",
       "\n",
       "                                Generes  \\\n",
       "0                   ['Action', 'Drama']   \n",
       "1     ['Action', 'Adventure', 'Sci-Fi']   \n",
       "2                   ['Action', 'Drama']   \n",
       "3  ['Animation', 'Action', 'Adventure']   \n",
       "4          ['Action', 'Crime', 'Drama']   \n",
       "\n",
       "                                            Overview  \\\n",
       "0  After more than thirty years of service as one...   \n",
       "1  Four years after the destruction of Isla Nubla...   \n",
       "2  As students at the United States Navy's elite ...   \n",
       "3  While spending years attempting to return home...   \n",
       "4  In the near future, convicts are offered the c...   \n",
       "\n",
       "                                        Plot Kyeword         Director  \\\n",
       "0  ['fighter jet', 'sequel', 'u.s. navy', 'fighte...  Joseph Kosinski   \n",
       "1  ['dinosaur', 'jurassic park', 'tyrannosaurus r...  Colin Trevorrow   \n",
       "2  ['pilot', 'male camaraderie', 'u.s. navy', 'gr...       Tony Scott   \n",
       "3  ['galaxy', 'spaceship', 'robot', 'rocket', 'sp...    Angus MacLane   \n",
       "4  ['discover', 'medical', 'test', 'reality', 'fi...  Joseph Kosinski   \n",
       "\n",
       "                                         Top 5 Casts            Writer   year  \\\n",
       "0  ['Jack Epps Jr.', 'Peter Craig', 'Tom Cruise',...          Jim Cash  -2022   \n",
       "1  ['Colin Trevorrow', 'Derek Connolly', 'Chris P...  Emily Carmichael  -2022   \n",
       "2  ['Jack Epps Jr.', 'Ehud Yonay', 'Tom Cruise', ...          Jim Cash  -1986   \n",
       "3  ['Jason Headley', 'Matthew Aldrich', 'Chris Ev...     Angus MacLane  -2022   \n",
       "4  ['Rhett Reese', 'Paul Wernick', 'Chris Hemswor...   George Saunders  -2022   \n",
       "\n",
       "                 path  \n",
       "0   /title/tt1745960/  \n",
       "1   /title/tt8041270/  \n",
       "2   /title/tt0092099/  \n",
       "3  /title/tt10298810/  \n",
       "4   /title/tt9783600/  "
      ]
     },
     "execution_count": 2,
     "metadata": {},
     "output_type": "execute_result"
    }
   ],
   "source": [
    "df = pd.read_csv('dataset.csv')\n",
    "df.head()"
   ]
  },
  {
   "cell_type": "code",
   "execution_count": 3,
   "id": "cb6e3940-1647-4f05-9eff-59bb2c309230",
   "metadata": {
    "scrolled": true
   },
   "outputs": [
    {
     "data": {
      "text/html": [
       "<div>\n",
       "<style scoped>\n",
       "    .dataframe tbody tr th:only-of-type {\n",
       "        vertical-align: middle;\n",
       "    }\n",
       "\n",
       "    .dataframe tbody tr th {\n",
       "        vertical-align: top;\n",
       "    }\n",
       "\n",
       "    .dataframe thead th {\n",
       "        text-align: right;\n",
       "    }\n",
       "</style>\n",
       "<table border=\"1\" class=\"dataframe\">\n",
       "  <thead>\n",
       "    <tr style=\"text-align: right;\">\n",
       "      <th></th>\n",
       "      <th>count</th>\n",
       "      <th>unique</th>\n",
       "      <th>top</th>\n",
       "      <th>freq</th>\n",
       "    </tr>\n",
       "  </thead>\n",
       "  <tbody>\n",
       "    <tr>\n",
       "      <th>movie title</th>\n",
       "      <td>24402</td>\n",
       "      <td>23922</td>\n",
       "      <td>Rage</td>\n",
       "      <td>4</td>\n",
       "    </tr>\n",
       "    <tr>\n",
       "      <th>Run Time</th>\n",
       "      <td>24402</td>\n",
       "      <td>1556</td>\n",
       "      <td>not-released</td>\n",
       "      <td>8475</td>\n",
       "    </tr>\n",
       "    <tr>\n",
       "      <th>Rating</th>\n",
       "      <td>24402</td>\n",
       "      <td>91</td>\n",
       "      <td>no-rating</td>\n",
       "      <td>1740</td>\n",
       "    </tr>\n",
       "    <tr>\n",
       "      <th>User Rating</th>\n",
       "      <td>24402</td>\n",
       "      <td>1684</td>\n",
       "      <td>0</td>\n",
       "      <td>1740</td>\n",
       "    </tr>\n",
       "    <tr>\n",
       "      <th>Generes</th>\n",
       "      <td>24402</td>\n",
       "      <td>746</td>\n",
       "      <td>['Drama']</td>\n",
       "      <td>943</td>\n",
       "    </tr>\n",
       "    <tr>\n",
       "      <th>Overview</th>\n",
       "      <td>24158</td>\n",
       "      <td>23957</td>\n",
       "      <td>none</td>\n",
       "      <td>142</td>\n",
       "    </tr>\n",
       "    <tr>\n",
       "      <th>Plot Kyeword</th>\n",
       "      <td>24402</td>\n",
       "      <td>21546</td>\n",
       "      <td>[]</td>\n",
       "      <td>1696</td>\n",
       "    </tr>\n",
       "    <tr>\n",
       "      <th>Director</th>\n",
       "      <td>24402</td>\n",
       "      <td>11604</td>\n",
       "      <td>See company contact information</td>\n",
       "      <td>142</td>\n",
       "    </tr>\n",
       "    <tr>\n",
       "      <th>Top 5 Casts</th>\n",
       "      <td>24402</td>\n",
       "      <td>24211</td>\n",
       "      <td>['See producer', 'See preliminary cast']</td>\n",
       "      <td>142</td>\n",
       "    </tr>\n",
       "    <tr>\n",
       "      <th>Writer</th>\n",
       "      <td>24402</td>\n",
       "      <td>15562</td>\n",
       "      <td>See writer</td>\n",
       "      <td>142</td>\n",
       "    </tr>\n",
       "    <tr>\n",
       "      <th>year</th>\n",
       "      <td>23624</td>\n",
       "      <td>250</td>\n",
       "      <td>-2022</td>\n",
       "      <td>1201</td>\n",
       "    </tr>\n",
       "    <tr>\n",
       "      <th>path</th>\n",
       "      <td>24402</td>\n",
       "      <td>23922</td>\n",
       "      <td>/title/tt0114224/</td>\n",
       "      <td>4</td>\n",
       "    </tr>\n",
       "  </tbody>\n",
       "</table>\n",
       "</div>"
      ],
      "text/plain": [
       "              count unique                                       top  freq\n",
       "movie title   24402  23922                                      Rage     4\n",
       "Run Time      24402   1556                              not-released  8475\n",
       "Rating        24402     91                                 no-rating  1740\n",
       "User Rating   24402   1684                                         0  1740\n",
       "Generes       24402    746                                 ['Drama']   943\n",
       "Overview      24158  23957                                      none   142\n",
       "Plot Kyeword  24402  21546                                        []  1696\n",
       "Director      24402  11604           See company contact information   142\n",
       "Top 5 Casts   24402  24211  ['See producer', 'See preliminary cast']   142\n",
       "Writer        24402  15562                                See writer   142\n",
       "year          23624    250                                     -2022  1201\n",
       "path          24402  23922                         /title/tt0114224/     4"
      ]
     },
     "execution_count": 3,
     "metadata": {},
     "output_type": "execute_result"
    }
   ],
   "source": [
    "df.describe().T"
   ]
  },
  {
   "cell_type": "code",
   "execution_count": 4,
   "id": "47db6ffd-0480-44eb-9005-7c1d4023d4ce",
   "metadata": {},
   "outputs": [
    {
     "name": "stdout",
     "output_type": "stream",
     "text": [
      "<class 'pandas.core.frame.DataFrame'>\n",
      "RangeIndex: 24402 entries, 0 to 24401\n",
      "Data columns (total 12 columns):\n",
      " #   Column        Non-Null Count  Dtype \n",
      "---  ------        --------------  ----- \n",
      " 0   movie title   24402 non-null  object\n",
      " 1   Run Time      24402 non-null  object\n",
      " 2   Rating        24402 non-null  object\n",
      " 3   User Rating   24402 non-null  object\n",
      " 4   Generes       24402 non-null  object\n",
      " 5   Overview      24158 non-null  object\n",
      " 6   Plot Kyeword  24402 non-null  object\n",
      " 7   Director      24402 non-null  object\n",
      " 8   Top 5 Casts   24402 non-null  object\n",
      " 9   Writer        24402 non-null  object\n",
      " 10  year          23624 non-null  object\n",
      " 11  path          24402 non-null  object\n",
      "dtypes: object(12)\n",
      "memory usage: 2.2+ MB\n"
     ]
    }
   ],
   "source": [
    "df.info()"
   ]
  },
  {
   "cell_type": "code",
   "execution_count": 5,
   "id": "f3786148-bc4c-45b9-af28-3ffb082f625a",
   "metadata": {},
   "outputs": [
    {
     "data": {
      "text/plain": [
       "(24402, 12)"
      ]
     },
     "execution_count": 5,
     "metadata": {},
     "output_type": "execute_result"
    }
   ],
   "source": [
    "df.shape"
   ]
  },
  {
   "cell_type": "code",
   "execution_count": 6,
   "id": "5ea9fa86-31de-41b4-b628-c086869ad499",
   "metadata": {},
   "outputs": [
    {
     "data": {
      "text/plain": [
       "movie title       0\n",
       "Run Time          0\n",
       "Rating            0\n",
       "User Rating       0\n",
       "Generes           0\n",
       "Overview        244\n",
       "Plot Kyeword      0\n",
       "Director          0\n",
       "Top 5 Casts       0\n",
       "Writer            0\n",
       "year            778\n",
       "path              0\n",
       "dtype: int64"
      ]
     },
     "execution_count": 6,
     "metadata": {},
     "output_type": "execute_result"
    }
   ],
   "source": [
    "df.isnull().sum()"
   ]
  },
  {
   "cell_type": "code",
   "execution_count": 7,
   "id": "a39ebb0d-ca41-45eb-a4d0-f702543d9d31",
   "metadata": {
    "scrolled": true
   },
   "outputs": [],
   "source": [
    "# Fixing typo\n",
    "df.columns = df.columns.str.strip().str.lower().str.replace(\" \", \"_\")\n",
    "df = df.rename(columns={'plot_kyeword': 'plot_keyword', 'generes': 'genres'})"
   ]
  },
  {
   "cell_type": "markdown",
   "id": "6de389bf-89b0-4441-bf43-78f5e455f676",
   "metadata": {},
   "source": [
    "## Dropping Unnecessary columns"
   ]
  },
  {
   "cell_type": "code",
   "execution_count": 8,
   "id": "b8d0ddee-a33e-4d20-940e-a76853c8fc79",
   "metadata": {},
   "outputs": [],
   "source": [
    "# We are not using run time, year, and path to recommend, we should drop the columns.\n",
    "df = df.drop('run_time', axis=1)\n",
    "df = df.drop('year', axis=1)\n",
    "df = df.drop('path', axis=1)\n",
    "df = df.drop('overview', axis=1)"
   ]
  },
  {
   "cell_type": "markdown",
   "id": "7a5d7d8c-e4f1-4a85-b7fd-4fc879767da5",
   "metadata": {},
   "source": [
    "## High quality Filtering"
   ]
  },
  {
   "cell_type": "code",
   "execution_count": 9,
   "id": "0c434e49-fdcc-4d9a-962c-e8643f961352",
   "metadata": {},
   "outputs": [
    {
     "ename": "TypeError",
     "evalue": "'>=' not supported between instances of 'str' and 'float'",
     "output_type": "error",
     "traceback": [
      "\u001b[1;31m---------------------------------------------------------------------------\u001b[0m",
      "\u001b[1;31mTypeError\u001b[0m                                 Traceback (most recent call last)",
      "Cell \u001b[1;32mIn[9], line 1\u001b[0m\n\u001b[1;32m----> 1\u001b[0m high_quality_df \u001b[38;5;241m=\u001b[39m df[(\u001b[43mdf\u001b[49m\u001b[43m[\u001b[49m\u001b[38;5;124;43m'\u001b[39;49m\u001b[38;5;124;43mrating\u001b[39;49m\u001b[38;5;124;43m'\u001b[39;49m\u001b[43m]\u001b[49m\u001b[43m \u001b[49m\u001b[38;5;241;43m>\u001b[39;49m\u001b[38;5;241;43m=\u001b[39;49m\u001b[43m \u001b[49m\u001b[38;5;241;43m6.0\u001b[39;49m) \u001b[38;5;241m&\u001b[39m (df[\u001b[38;5;124m'\u001b[39m\u001b[38;5;124mvotes\u001b[39m\u001b[38;5;124m'\u001b[39m] \u001b[38;5;241m>\u001b[39m\u001b[38;5;241m=\u001b[39m \u001b[38;5;241m10000\u001b[39m)]\n",
      "File \u001b[1;32mC:\\ProgramData\\anaconda3\\Lib\\site-packages\\pandas\\core\\ops\\common.py:76\u001b[0m, in \u001b[0;36m_unpack_zerodim_and_defer.<locals>.new_method\u001b[1;34m(self, other)\u001b[0m\n\u001b[0;32m     72\u001b[0m             \u001b[38;5;28;01mreturn\u001b[39;00m \u001b[38;5;28mNotImplemented\u001b[39m\n\u001b[0;32m     74\u001b[0m other \u001b[38;5;241m=\u001b[39m item_from_zerodim(other)\n\u001b[1;32m---> 76\u001b[0m \u001b[38;5;28;01mreturn\u001b[39;00m \u001b[43mmethod\u001b[49m\u001b[43m(\u001b[49m\u001b[38;5;28;43mself\u001b[39;49m\u001b[43m,\u001b[49m\u001b[43m \u001b[49m\u001b[43mother\u001b[49m\u001b[43m)\u001b[49m\n",
      "File \u001b[1;32mC:\\ProgramData\\anaconda3\\Lib\\site-packages\\pandas\\core\\arraylike.py:60\u001b[0m, in \u001b[0;36mOpsMixin.__ge__\u001b[1;34m(self, other)\u001b[0m\n\u001b[0;32m     58\u001b[0m \u001b[38;5;129m@unpack_zerodim_and_defer\u001b[39m(\u001b[38;5;124m\"\u001b[39m\u001b[38;5;124m__ge__\u001b[39m\u001b[38;5;124m\"\u001b[39m)\n\u001b[0;32m     59\u001b[0m \u001b[38;5;28;01mdef\u001b[39;00m \u001b[38;5;21m__ge__\u001b[39m(\u001b[38;5;28mself\u001b[39m, other):\n\u001b[1;32m---> 60\u001b[0m     \u001b[38;5;28;01mreturn\u001b[39;00m \u001b[38;5;28;43mself\u001b[39;49m\u001b[38;5;241;43m.\u001b[39;49m\u001b[43m_cmp_method\u001b[49m\u001b[43m(\u001b[49m\u001b[43mother\u001b[49m\u001b[43m,\u001b[49m\u001b[43m \u001b[49m\u001b[43moperator\u001b[49m\u001b[38;5;241;43m.\u001b[39;49m\u001b[43mge\u001b[49m\u001b[43m)\u001b[49m\n",
      "File \u001b[1;32mC:\\ProgramData\\anaconda3\\Lib\\site-packages\\pandas\\core\\series.py:6119\u001b[0m, in \u001b[0;36mSeries._cmp_method\u001b[1;34m(self, other, op)\u001b[0m\n\u001b[0;32m   6116\u001b[0m lvalues \u001b[38;5;241m=\u001b[39m \u001b[38;5;28mself\u001b[39m\u001b[38;5;241m.\u001b[39m_values\n\u001b[0;32m   6117\u001b[0m rvalues \u001b[38;5;241m=\u001b[39m extract_array(other, extract_numpy\u001b[38;5;241m=\u001b[39m\u001b[38;5;28;01mTrue\u001b[39;00m, extract_range\u001b[38;5;241m=\u001b[39m\u001b[38;5;28;01mTrue\u001b[39;00m)\n\u001b[1;32m-> 6119\u001b[0m res_values \u001b[38;5;241m=\u001b[39m \u001b[43mops\u001b[49m\u001b[38;5;241;43m.\u001b[39;49m\u001b[43mcomparison_op\u001b[49m\u001b[43m(\u001b[49m\u001b[43mlvalues\u001b[49m\u001b[43m,\u001b[49m\u001b[43m \u001b[49m\u001b[43mrvalues\u001b[49m\u001b[43m,\u001b[49m\u001b[43m \u001b[49m\u001b[43mop\u001b[49m\u001b[43m)\u001b[49m\n\u001b[0;32m   6121\u001b[0m \u001b[38;5;28;01mreturn\u001b[39;00m \u001b[38;5;28mself\u001b[39m\u001b[38;5;241m.\u001b[39m_construct_result(res_values, name\u001b[38;5;241m=\u001b[39mres_name)\n",
      "File \u001b[1;32mC:\\ProgramData\\anaconda3\\Lib\\site-packages\\pandas\\core\\ops\\array_ops.py:344\u001b[0m, in \u001b[0;36mcomparison_op\u001b[1;34m(left, right, op)\u001b[0m\n\u001b[0;32m    341\u001b[0m     \u001b[38;5;28;01mreturn\u001b[39;00m invalid_comparison(lvalues, rvalues, op)\n\u001b[0;32m    343\u001b[0m \u001b[38;5;28;01melif\u001b[39;00m lvalues\u001b[38;5;241m.\u001b[39mdtype \u001b[38;5;241m==\u001b[39m \u001b[38;5;28mobject\u001b[39m \u001b[38;5;129;01mor\u001b[39;00m \u001b[38;5;28misinstance\u001b[39m(rvalues, \u001b[38;5;28mstr\u001b[39m):\n\u001b[1;32m--> 344\u001b[0m     res_values \u001b[38;5;241m=\u001b[39m \u001b[43mcomp_method_OBJECT_ARRAY\u001b[49m\u001b[43m(\u001b[49m\u001b[43mop\u001b[49m\u001b[43m,\u001b[49m\u001b[43m \u001b[49m\u001b[43mlvalues\u001b[49m\u001b[43m,\u001b[49m\u001b[43m \u001b[49m\u001b[43mrvalues\u001b[49m\u001b[43m)\u001b[49m\n\u001b[0;32m    346\u001b[0m \u001b[38;5;28;01melse\u001b[39;00m:\n\u001b[0;32m    347\u001b[0m     res_values \u001b[38;5;241m=\u001b[39m _na_arithmetic_op(lvalues, rvalues, op, is_cmp\u001b[38;5;241m=\u001b[39m\u001b[38;5;28;01mTrue\u001b[39;00m)\n",
      "File \u001b[1;32mC:\\ProgramData\\anaconda3\\Lib\\site-packages\\pandas\\core\\ops\\array_ops.py:129\u001b[0m, in \u001b[0;36mcomp_method_OBJECT_ARRAY\u001b[1;34m(op, x, y)\u001b[0m\n\u001b[0;32m    127\u001b[0m     result \u001b[38;5;241m=\u001b[39m libops\u001b[38;5;241m.\u001b[39mvec_compare(x\u001b[38;5;241m.\u001b[39mravel(), y\u001b[38;5;241m.\u001b[39mravel(), op)\n\u001b[0;32m    128\u001b[0m \u001b[38;5;28;01melse\u001b[39;00m:\n\u001b[1;32m--> 129\u001b[0m     result \u001b[38;5;241m=\u001b[39m \u001b[43mlibops\u001b[49m\u001b[38;5;241;43m.\u001b[39;49m\u001b[43mscalar_compare\u001b[49m\u001b[43m(\u001b[49m\u001b[43mx\u001b[49m\u001b[38;5;241;43m.\u001b[39;49m\u001b[43mravel\u001b[49m\u001b[43m(\u001b[49m\u001b[43m)\u001b[49m\u001b[43m,\u001b[49m\u001b[43m \u001b[49m\u001b[43my\u001b[49m\u001b[43m,\u001b[49m\u001b[43m \u001b[49m\u001b[43mop\u001b[49m\u001b[43m)\u001b[49m\n\u001b[0;32m    130\u001b[0m \u001b[38;5;28;01mreturn\u001b[39;00m result\u001b[38;5;241m.\u001b[39mreshape(x\u001b[38;5;241m.\u001b[39mshape)\n",
      "File \u001b[1;32mops.pyx:107\u001b[0m, in \u001b[0;36mpandas._libs.ops.scalar_compare\u001b[1;34m()\u001b[0m\n",
      "\u001b[1;31mTypeError\u001b[0m: '>=' not supported between instances of 'str' and 'float'"
     ]
    }
   ],
   "source": [
    "high_quality_df = df[(df['rating'] >= 6.0) & (df['votes'] >= 10000)]"
   ]
  },
  {
   "cell_type": "markdown",
   "id": "7e0285f2-889e-4d4f-a380-8c80c0b08ee4",
   "metadata": {},
   "source": [
    "## Rating and Votes Parsing"
   ]
  },
  {
   "cell_type": "code",
   "execution_count": null,
   "id": "4c6d30fd-5936-4ead-8c75-d41b9d852bff",
   "metadata": {},
   "outputs": [],
   "source": [
    "# Change rating to numbers\n",
    "df['rating'] = pd.to_numeric(df['rating'], errors='coerce')"
   ]
  },
  {
   "cell_type": "code",
   "execution_count": null,
   "id": "e58eecce-1c45-497c-959a-3604214ec6b1",
   "metadata": {},
   "outputs": [],
   "source": [
    "def parse_votes(value):\n",
    "    if isinstance(value, str):\n",
    "        value = value.strip().upper().replace('K', '000').replace('M', '000000')\n",
    "    try:\n",
    "        return int(float(value))\n",
    "    except:\n",
    "        return None\n",
    "\n",
    "df['votes'] = df['user_rating'].apply(parse_votes)"
   ]
  },
  {
   "cell_type": "markdown",
   "id": "87cc109e-be97-4f65-bacf-892d76bb7c7f",
   "metadata": {},
   "source": [
    "## Strings to Lists"
   ]
  },
  {
   "cell_type": "code",
   "execution_count": null,
   "id": "67987fee-c369-440d-b92b-1c3ec88e775f",
   "metadata": {},
   "outputs": [],
   "source": [
    "for col in ['genres', 'plot_keyword', 'top_5_casts']:\n",
    "    df[col] = df[col].apply(lambda x: ast.literal_eval(x) if pd.notna(x) else [])"
   ]
  },
  {
   "cell_type": "markdown",
   "id": "1c58b2c1-391d-44d9-a598-c28f0de61008",
   "metadata": {},
   "source": [
    "## Genre Cleaning"
   ]
  },
  {
   "cell_type": "code",
   "execution_count": null,
   "id": "9082d0c2-ecc0-4a7b-accc-93803cb9cd04",
   "metadata": {},
   "outputs": [],
   "source": [
    "# Genres Observation\n",
    "genre_counter = Counter(itertools.chain.from_iterable(high_quality_df['genres']))\n",
    "print(genre_counter.most_common())"
   ]
  },
  {
   "cell_type": "markdown",
   "id": "32a47abd-2523-45fb-948d-3790352b6717",
   "metadata": {},
   "source": [
    "### One-Hot Encoding"
   ]
  },
  {
   "cell_type": "code",
   "execution_count": null,
   "id": "6a3494e0-25ce-4705-9049-489b0c4966e6",
   "metadata": {},
   "outputs": [],
   "source": [
    "# One-Hot Encode Genres\n",
    "from sklearn.preprocessing import MultiLabelBinarizer\n",
    "\n",
    "mlb = MultiLabelBinarizer()\n",
    "genre_encoded = mlb.fit_transform(high_quality_df['genres'])\n",
    "\n",
    "genre_df = pd.DataFrame(genre_encoded, columns=mlb.classes_)\n",
    "\n",
    "high_quality_df = pd.concat([high_quality_df.reset_index(drop=True), genre_df], axis=1)"
   ]
  },
  {
   "cell_type": "markdown",
   "id": "1b098d30-406c-4d66-ac0f-c804fafdb32b",
   "metadata": {},
   "source": [
    "## Keywords Cleaning"
   ]
  },
  {
   "cell_type": "code",
   "execution_count": null,
   "id": "eac19556-09ff-4d0c-8859-fc5073bccfbc",
   "metadata": {
    "scrolled": true
   },
   "outputs": [],
   "source": [
    "# Keyword Observation\n",
    "def normalize_keywords(keywords):\n",
    "    keywords = [kw.lower().strip() for kw in keywords if isinstance(kw, str)]\n",
    "    return list(set(keywords))\n",
    "\n",
    "high_quality_df['plot_keyword'] = high_quality_df['plot_keyword'].apply(normalize_keywords)\n",
    "\n",
    "keyword_counter = Counter(itertools.chain.from_iterable(high_quality_df['plot_keyword']))\n",
    "print(keyword_counter.most_common())"
   ]
  },
  {
   "cell_type": "markdown",
   "id": "e0213345-7491-47fd-97de-8bfd27de5497",
   "metadata": {},
   "source": [
    "### Filtering Out Low Frequency Keywords"
   ]
  },
  {
   "cell_type": "code",
   "execution_count": null,
   "id": "fc67e6a7-ec14-4302-a53e-063b61c06de7",
   "metadata": {
    "scrolled": true
   },
   "outputs": [],
   "source": [
    "threshold = 3\n",
    "low_freq_keywords = {kw for kw, count in keyword_counter.items() if count <= threshold}\n",
    "len(low_freq_keywords)"
   ]
  },
  {
   "cell_type": "code",
   "execution_count": null,
   "id": "e8341d3b-60be-40e1-97b1-3beba0e16cd4",
   "metadata": {},
   "outputs": [],
   "source": [
    "def remove_low_freq_keywords(keywords):\n",
    "    return [kw for kw in keywords if kw not in low_freq_keywords]\n",
    "\n",
    "high_quality_df['plot_keyword'] = high_quality_df['plot_keyword'].apply(remove_low_freq_keywords)"
   ]
  },
  {
   "cell_type": "markdown",
   "id": "0b327130-ee05-4c56-b51d-f0eb84777e8e",
   "metadata": {},
   "source": [
    "### Lemmatize keywords"
   ]
  },
  {
   "cell_type": "code",
   "execution_count": null,
   "id": "0a0f7a93-be56-43be-b9e2-667d22f1bd4b",
   "metadata": {},
   "outputs": [],
   "source": [
    "from nltk.stem import WordNetLemmatizer\n",
    "import nltk\n",
    "nltk.download('wordnet')\n",
    "lemm = WordNetLemmatizer()\n",
    "\n",
    "def lemmatize_keywords(keywords):\n",
    "    return [lemm.lemmatize(kw) for kw in keywords]\n",
    "\n",
    "high_quality_df['plot_keyword'] = high_quality_df['plot_keyword'].apply(lemmatize_keywords)"
   ]
  },
  {
   "cell_type": "code",
   "execution_count": null,
   "id": "decfdd33-58db-45b8-b537-960f5e0dc944",
   "metadata": {},
   "outputs": [],
   "source": [
    "high_quality_df.info()"
   ]
  },
  {
   "cell_type": "code",
   "execution_count": null,
   "id": "5c479f25-371b-4de2-924f-2a2bf2f06327",
   "metadata": {},
   "outputs": [],
   "source": [
    "high_quality_df.isnull().sum()"
   ]
  },
  {
   "cell_type": "code",
   "execution_count": null,
   "id": "51d8b884-e308-43f6-819f-c75f6b019e2e",
   "metadata": {},
   "outputs": [],
   "source": [
    "high_quality_df.to_csv('cleaned_high_quality_dataset.csv', index=False)"
   ]
  }
 ],
 "metadata": {
  "kernelspec": {
   "display_name": "Python 3 (ipykernel)",
   "language": "python",
   "name": "python3"
  },
  "language_info": {
   "codemirror_mode": {
    "name": "ipython",
    "version": 3
   },
   "file_extension": ".py",
   "mimetype": "text/x-python",
   "name": "python",
   "nbconvert_exporter": "python",
   "pygments_lexer": "ipython3",
   "version": "3.12.7"
  }
 },
 "nbformat": 4,
 "nbformat_minor": 5
}
