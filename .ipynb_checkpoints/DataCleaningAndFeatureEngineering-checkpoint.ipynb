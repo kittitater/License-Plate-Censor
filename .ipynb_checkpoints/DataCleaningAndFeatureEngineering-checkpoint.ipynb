{
 "cells": [
  {
   "cell_type": "markdown",
   "id": "c5da5963-17e2-4185-9a93-c0fa655fec54",
   "metadata": {},
   "source": [
    "## Imports"
   ]
  },
  {
   "cell_type": "code",
   "execution_count": 1,
   "id": "342e61fd-7b00-4719-ae21-b0890877cdd7",
   "metadata": {},
   "outputs": [],
   "source": [
    "import pandas as pd\n",
    "import re\n",
    "import ast\n",
    "from collections import Counter\n",
    "import itertools"
   ]
  },
  {
   "cell_type": "markdown",
   "id": "33c7f0c6-8dcd-4d54-afd7-50a9a5ebae47",
   "metadata": {},
   "source": [
    "## Dataset Overview"
   ]
  },
  {
   "cell_type": "code",
   "execution_count": 2,
   "id": "8b5a4331-9c19-4d2b-a83a-ae4abfd2f224",
   "metadata": {
    "scrolled": true
   },
   "outputs": [
    {
     "data": {
      "text/html": [
       "<div>\n",
       "<style scoped>\n",
       "    .dataframe tbody tr th:only-of-type {\n",
       "        vertical-align: middle;\n",
       "    }\n",
       "\n",
       "    .dataframe tbody tr th {\n",
       "        vertical-align: top;\n",
       "    }\n",
       "\n",
       "    .dataframe thead th {\n",
       "        text-align: right;\n",
       "    }\n",
       "</style>\n",
       "<table border=\"1\" class=\"dataframe\">\n",
       "  <thead>\n",
       "    <tr style=\"text-align: right;\">\n",
       "      <th></th>\n",
       "      <th>movie title</th>\n",
       "      <th>Run Time</th>\n",
       "      <th>Rating</th>\n",
       "      <th>User Rating</th>\n",
       "      <th>Generes</th>\n",
       "      <th>Overview</th>\n",
       "      <th>Plot Kyeword</th>\n",
       "      <th>Director</th>\n",
       "      <th>Top 5 Casts</th>\n",
       "      <th>Writer</th>\n",
       "      <th>year</th>\n",
       "      <th>path</th>\n",
       "    </tr>\n",
       "  </thead>\n",
       "  <tbody>\n",
       "    <tr>\n",
       "      <th>0</th>\n",
       "      <td>Top Gun: Maverick</td>\n",
       "      <td>$170,000,000 (estimated)</td>\n",
       "      <td>8.6</td>\n",
       "      <td>187K</td>\n",
       "      <td>['Action', 'Drama']</td>\n",
       "      <td>After more than thirty years of service as one...</td>\n",
       "      <td>['fighter jet', 'sequel', 'u.s. navy', 'fighte...</td>\n",
       "      <td>Joseph Kosinski</td>\n",
       "      <td>['Jack Epps Jr.', 'Peter Craig', 'Tom Cruise',...</td>\n",
       "      <td>Jim Cash</td>\n",
       "      <td>-2022</td>\n",
       "      <td>/title/tt1745960/</td>\n",
       "    </tr>\n",
       "    <tr>\n",
       "      <th>1</th>\n",
       "      <td>Jurassic World Dominion</td>\n",
       "      <td>2 hours 27 minutes</td>\n",
       "      <td>6</td>\n",
       "      <td>56K</td>\n",
       "      <td>['Action', 'Adventure', 'Sci-Fi']</td>\n",
       "      <td>Four years after the destruction of Isla Nubla...</td>\n",
       "      <td>['dinosaur', 'jurassic park', 'tyrannosaurus r...</td>\n",
       "      <td>Colin Trevorrow</td>\n",
       "      <td>['Colin Trevorrow', 'Derek Connolly', 'Chris P...</td>\n",
       "      <td>Emily Carmichael</td>\n",
       "      <td>-2022</td>\n",
       "      <td>/title/tt8041270/</td>\n",
       "    </tr>\n",
       "    <tr>\n",
       "      <th>2</th>\n",
       "      <td>Top Gun</td>\n",
       "      <td>$15,000,000 (estimated)</td>\n",
       "      <td>6.9</td>\n",
       "      <td>380K</td>\n",
       "      <td>['Action', 'Drama']</td>\n",
       "      <td>As students at the United States Navy's elite ...</td>\n",
       "      <td>['pilot', 'male camaraderie', 'u.s. navy', 'gr...</td>\n",
       "      <td>Tony Scott</td>\n",
       "      <td>['Jack Epps Jr.', 'Ehud Yonay', 'Tom Cruise', ...</td>\n",
       "      <td>Jim Cash</td>\n",
       "      <td>-1986</td>\n",
       "      <td>/title/tt0092099/</td>\n",
       "    </tr>\n",
       "    <tr>\n",
       "      <th>3</th>\n",
       "      <td>Lightyear</td>\n",
       "      <td>$71,101,257</td>\n",
       "      <td>5.2</td>\n",
       "      <td>32K</td>\n",
       "      <td>['Animation', 'Action', 'Adventure']</td>\n",
       "      <td>While spending years attempting to return home...</td>\n",
       "      <td>['galaxy', 'spaceship', 'robot', 'rocket', 'sp...</td>\n",
       "      <td>Angus MacLane</td>\n",
       "      <td>['Jason Headley', 'Matthew Aldrich', 'Chris Ev...</td>\n",
       "      <td>Angus MacLane</td>\n",
       "      <td>-2022</td>\n",
       "      <td>/title/tt10298810/</td>\n",
       "    </tr>\n",
       "    <tr>\n",
       "      <th>4</th>\n",
       "      <td>Spiderhead</td>\n",
       "      <td>not-released</td>\n",
       "      <td>5.4</td>\n",
       "      <td>23K</td>\n",
       "      <td>['Action', 'Crime', 'Drama']</td>\n",
       "      <td>In the near future, convicts are offered the c...</td>\n",
       "      <td>['discover', 'medical', 'test', 'reality', 'fi...</td>\n",
       "      <td>Joseph Kosinski</td>\n",
       "      <td>['Rhett Reese', 'Paul Wernick', 'Chris Hemswor...</td>\n",
       "      <td>George Saunders</td>\n",
       "      <td>-2022</td>\n",
       "      <td>/title/tt9783600/</td>\n",
       "    </tr>\n",
       "  </tbody>\n",
       "</table>\n",
       "</div>"
      ],
      "text/plain": [
       "               movie title                  Run Time Rating User Rating  \\\n",
       "0        Top Gun: Maverick  $170,000,000 (estimated)    8.6        187K   \n",
       "1  Jurassic World Dominion        2 hours 27 minutes      6         56K   \n",
       "2                  Top Gun   $15,000,000 (estimated)    6.9        380K   \n",
       "3                Lightyear               $71,101,257    5.2         32K   \n",
       "4               Spiderhead              not-released    5.4         23K   \n",
       "\n",
       "                                Generes  \\\n",
       "0                   ['Action', 'Drama']   \n",
       "1     ['Action', 'Adventure', 'Sci-Fi']   \n",
       "2                   ['Action', 'Drama']   \n",
       "3  ['Animation', 'Action', 'Adventure']   \n",
       "4          ['Action', 'Crime', 'Drama']   \n",
       "\n",
       "                                            Overview  \\\n",
       "0  After more than thirty years of service as one...   \n",
       "1  Four years after the destruction of Isla Nubla...   \n",
       "2  As students at the United States Navy's elite ...   \n",
       "3  While spending years attempting to return home...   \n",
       "4  In the near future, convicts are offered the c...   \n",
       "\n",
       "                                        Plot Kyeword         Director  \\\n",
       "0  ['fighter jet', 'sequel', 'u.s. navy', 'fighte...  Joseph Kosinski   \n",
       "1  ['dinosaur', 'jurassic park', 'tyrannosaurus r...  Colin Trevorrow   \n",
       "2  ['pilot', 'male camaraderie', 'u.s. navy', 'gr...       Tony Scott   \n",
       "3  ['galaxy', 'spaceship', 'robot', 'rocket', 'sp...    Angus MacLane   \n",
       "4  ['discover', 'medical', 'test', 'reality', 'fi...  Joseph Kosinski   \n",
       "\n",
       "                                         Top 5 Casts            Writer   year  \\\n",
       "0  ['Jack Epps Jr.', 'Peter Craig', 'Tom Cruise',...          Jim Cash  -2022   \n",
       "1  ['Colin Trevorrow', 'Derek Connolly', 'Chris P...  Emily Carmichael  -2022   \n",
       "2  ['Jack Epps Jr.', 'Ehud Yonay', 'Tom Cruise', ...          Jim Cash  -1986   \n",
       "3  ['Jason Headley', 'Matthew Aldrich', 'Chris Ev...     Angus MacLane  -2022   \n",
       "4  ['Rhett Reese', 'Paul Wernick', 'Chris Hemswor...   George Saunders  -2022   \n",
       "\n",
       "                 path  \n",
       "0   /title/tt1745960/  \n",
       "1   /title/tt8041270/  \n",
       "2   /title/tt0092099/  \n",
       "3  /title/tt10298810/  \n",
       "4   /title/tt9783600/  "
      ]
     },
     "execution_count": 2,
     "metadata": {},
     "output_type": "execute_result"
    }
   ],
   "source": [
    "df = pd.read_csv('dataset.csv')\n",
    "df.head()"
   ]
  },
  {
   "cell_type": "code",
   "execution_count": 3,
   "id": "cb6e3940-1647-4f05-9eff-59bb2c309230",
   "metadata": {
    "scrolled": true
   },
   "outputs": [
    {
     "data": {
      "text/html": [
       "<div>\n",
       "<style scoped>\n",
       "    .dataframe tbody tr th:only-of-type {\n",
       "        vertical-align: middle;\n",
       "    }\n",
       "\n",
       "    .dataframe tbody tr th {\n",
       "        vertical-align: top;\n",
       "    }\n",
       "\n",
       "    .dataframe thead th {\n",
       "        text-align: right;\n",
       "    }\n",
       "</style>\n",
       "<table border=\"1\" class=\"dataframe\">\n",
       "  <thead>\n",
       "    <tr style=\"text-align: right;\">\n",
       "      <th></th>\n",
       "      <th>count</th>\n",
       "      <th>unique</th>\n",
       "      <th>top</th>\n",
       "      <th>freq</th>\n",
       "    </tr>\n",
       "  </thead>\n",
       "  <tbody>\n",
       "    <tr>\n",
       "      <th>movie title</th>\n",
       "      <td>24402</td>\n",
       "      <td>23922</td>\n",
       "      <td>Rage</td>\n",
       "      <td>4</td>\n",
       "    </tr>\n",
       "    <tr>\n",
       "      <th>Run Time</th>\n",
       "      <td>24402</td>\n",
       "      <td>1556</td>\n",
       "      <td>not-released</td>\n",
       "      <td>8475</td>\n",
       "    </tr>\n",
       "    <tr>\n",
       "      <th>Rating</th>\n",
       "      <td>24402</td>\n",
       "      <td>91</td>\n",
       "      <td>no-rating</td>\n",
       "      <td>1740</td>\n",
       "    </tr>\n",
       "    <tr>\n",
       "      <th>User Rating</th>\n",
       "      <td>24402</td>\n",
       "      <td>1684</td>\n",
       "      <td>0</td>\n",
       "      <td>1740</td>\n",
       "    </tr>\n",
       "    <tr>\n",
       "      <th>Generes</th>\n",
       "      <td>24402</td>\n",
       "      <td>746</td>\n",
       "      <td>['Drama']</td>\n",
       "      <td>943</td>\n",
       "    </tr>\n",
       "    <tr>\n",
       "      <th>Overview</th>\n",
       "      <td>24158</td>\n",
       "      <td>23957</td>\n",
       "      <td>none</td>\n",
       "      <td>142</td>\n",
       "    </tr>\n",
       "    <tr>\n",
       "      <th>Plot Kyeword</th>\n",
       "      <td>24402</td>\n",
       "      <td>21546</td>\n",
       "      <td>[]</td>\n",
       "      <td>1696</td>\n",
       "    </tr>\n",
       "    <tr>\n",
       "      <th>Director</th>\n",
       "      <td>24402</td>\n",
       "      <td>11604</td>\n",
       "      <td>See company contact information</td>\n",
       "      <td>142</td>\n",
       "    </tr>\n",
       "    <tr>\n",
       "      <th>Top 5 Casts</th>\n",
       "      <td>24402</td>\n",
       "      <td>24211</td>\n",
       "      <td>['See producer', 'See preliminary cast']</td>\n",
       "      <td>142</td>\n",
       "    </tr>\n",
       "    <tr>\n",
       "      <th>Writer</th>\n",
       "      <td>24402</td>\n",
       "      <td>15562</td>\n",
       "      <td>See writer</td>\n",
       "      <td>142</td>\n",
       "    </tr>\n",
       "    <tr>\n",
       "      <th>year</th>\n",
       "      <td>23624</td>\n",
       "      <td>250</td>\n",
       "      <td>-2022</td>\n",
       "      <td>1201</td>\n",
       "    </tr>\n",
       "    <tr>\n",
       "      <th>path</th>\n",
       "      <td>24402</td>\n",
       "      <td>23922</td>\n",
       "      <td>/title/tt0114224/</td>\n",
       "      <td>4</td>\n",
       "    </tr>\n",
       "  </tbody>\n",
       "</table>\n",
       "</div>"
      ],
      "text/plain": [
       "              count unique                                       top  freq\n",
       "movie title   24402  23922                                      Rage     4\n",
       "Run Time      24402   1556                              not-released  8475\n",
       "Rating        24402     91                                 no-rating  1740\n",
       "User Rating   24402   1684                                         0  1740\n",
       "Generes       24402    746                                 ['Drama']   943\n",
       "Overview      24158  23957                                      none   142\n",
       "Plot Kyeword  24402  21546                                        []  1696\n",
       "Director      24402  11604           See company contact information   142\n",
       "Top 5 Casts   24402  24211  ['See producer', 'See preliminary cast']   142\n",
       "Writer        24402  15562                                See writer   142\n",
       "year          23624    250                                     -2022  1201\n",
       "path          24402  23922                         /title/tt0114224/     4"
      ]
     },
     "execution_count": 3,
     "metadata": {},
     "output_type": "execute_result"
    }
   ],
   "source": [
    "df.describe().T"
   ]
  },
  {
   "cell_type": "code",
   "execution_count": 4,
   "id": "47db6ffd-0480-44eb-9005-7c1d4023d4ce",
   "metadata": {},
   "outputs": [
    {
     "name": "stdout",
     "output_type": "stream",
     "text": [
      "<class 'pandas.core.frame.DataFrame'>\n",
      "RangeIndex: 24402 entries, 0 to 24401\n",
      "Data columns (total 12 columns):\n",
      " #   Column        Non-Null Count  Dtype \n",
      "---  ------        --------------  ----- \n",
      " 0   movie title   24402 non-null  object\n",
      " 1   Run Time      24402 non-null  object\n",
      " 2   Rating        24402 non-null  object\n",
      " 3   User Rating   24402 non-null  object\n",
      " 4   Generes       24402 non-null  object\n",
      " 5   Overview      24158 non-null  object\n",
      " 6   Plot Kyeword  24402 non-null  object\n",
      " 7   Director      24402 non-null  object\n",
      " 8   Top 5 Casts   24402 non-null  object\n",
      " 9   Writer        24402 non-null  object\n",
      " 10  year          23624 non-null  object\n",
      " 11  path          24402 non-null  object\n",
      "dtypes: object(12)\n",
      "memory usage: 2.2+ MB\n"
     ]
    }
   ],
   "source": [
    "df.info()"
   ]
  },
  {
   "cell_type": "code",
   "execution_count": 5,
   "id": "f3786148-bc4c-45b9-af28-3ffb082f625a",
   "metadata": {},
   "outputs": [
    {
     "data": {
      "text/plain": [
       "(24402, 12)"
      ]
     },
     "execution_count": 5,
     "metadata": {},
     "output_type": "execute_result"
    }
   ],
   "source": [
    "df.shape"
   ]
  },
  {
   "cell_type": "code",
   "execution_count": 6,
   "id": "5ea9fa86-31de-41b4-b628-c086869ad499",
   "metadata": {},
   "outputs": [
    {
     "data": {
      "text/plain": [
       "movie title       0\n",
       "Run Time          0\n",
       "Rating            0\n",
       "User Rating       0\n",
       "Generes           0\n",
       "Overview        244\n",
       "Plot Kyeword      0\n",
       "Director          0\n",
       "Top 5 Casts       0\n",
       "Writer            0\n",
       "year            778\n",
       "path              0\n",
       "dtype: int64"
      ]
     },
     "execution_count": 6,
     "metadata": {},
     "output_type": "execute_result"
    }
   ],
   "source": [
    "df.isnull().sum()"
   ]
  },
  {
   "cell_type": "code",
   "execution_count": 7,
   "id": "a39ebb0d-ca41-45eb-a4d0-f702543d9d31",
   "metadata": {
    "scrolled": true
   },
   "outputs": [],
   "source": [
    "# Fixing typo\n",
    "df.columns = df.columns.str.strip().str.lower().str.replace(\" \", \"_\")\n",
    "df = df.rename(columns={'plot_kyeword': 'plot_keyword', 'generes': 'genres'})"
   ]
  },
  {
   "cell_type": "markdown",
   "id": "6de389bf-89b0-4441-bf43-78f5e455f676",
   "metadata": {},
   "source": [
    "## Dropping Unnecessary columns"
   ]
  },
  {
   "cell_type": "code",
   "execution_count": 8,
   "id": "b8d0ddee-a33e-4d20-940e-a76853c8fc79",
   "metadata": {},
   "outputs": [],
   "source": [
    "# We are not using run time, year, and path to recommend, we should drop the columns.\n",
    "df = df.drop('run_time', axis=1)\n",
    "df = df.drop('year', axis=1)\n",
    "df = df.drop('path', axis=1)\n",
    "df = df.drop('overview', axis=1)"
   ]
  },
  {
   "cell_type": "markdown",
   "id": "7e0285f2-889e-4d4f-a380-8c80c0b08ee4",
   "metadata": {},
   "source": [
    "## Rating and Votes Parsing"
   ]
  },
  {
   "cell_type": "code",
   "execution_count": 9,
   "id": "4c6d30fd-5936-4ead-8c75-d41b9d852bff",
   "metadata": {},
   "outputs": [],
   "source": [
    "# Change rating to numbers\n",
    "df['rating'] = pd.to_numeric(df['rating'], errors='coerce')"
   ]
  },
  {
   "cell_type": "code",
   "execution_count": 10,
   "id": "e58eecce-1c45-497c-959a-3604214ec6b1",
   "metadata": {},
   "outputs": [],
   "source": [
    "def parse_votes(value):\n",
    "    if isinstance(value, str):\n",
    "        value = value.strip().upper().replace('K', '000').replace('M', '000000')\n",
    "    try:\n",
    "        return int(float(value))\n",
    "    except:\n",
    "        return None\n",
    "\n",
    "df['votes'] = df['user_rating'].apply(parse_votes)"
   ]
  },
  {
   "cell_type": "markdown",
   "id": "87cc109e-be97-4f65-bacf-892d76bb7c7f",
   "metadata": {},
   "source": [
    "## Strings to Lists"
   ]
  },
  {
   "cell_type": "code",
   "execution_count": 11,
   "id": "67987fee-c369-440d-b92b-1c3ec88e775f",
   "metadata": {},
   "outputs": [],
   "source": [
    "for col in ['genres', 'plot_keyword', 'top_5_casts']:\n",
    "    df[col] = df[col].apply(lambda x: ast.literal_eval(x) if pd.notna(x) else [])"
   ]
  },
  {
   "cell_type": "markdown",
   "id": "1f7cb98c-5548-40f4-acec-17c3a38bc159",
   "metadata": {},
   "source": [
    "## High quality Filtering"
   ]
  },
  {
   "cell_type": "code",
   "execution_count": 12,
   "id": "0c434e49-fdcc-4d9a-962c-e8643f961352",
   "metadata": {
    "scrolled": true
   },
   "outputs": [],
   "source": [
    "high_quality_df = df[(df['rating'] >= 6.0) & (df['votes'] >= 10000)]"
   ]
  },
  {
   "cell_type": "markdown",
   "id": "1c58b2c1-391d-44d9-a598-c28f0de61008",
   "metadata": {},
   "source": [
    "## Genre Cleaning"
   ]
  },
  {
   "cell_type": "code",
   "execution_count": 13,
   "id": "9082d0c2-ecc0-4a7b-accc-93803cb9cd04",
   "metadata": {},
   "outputs": [
    {
     "name": "stdout",
     "output_type": "stream",
     "text": [
      "[('Drama', 3663), ('Comedy', 2060), ('Action', 1418), ('Crime', 1330), ('Romance', 1020), ('Adventure', 991), ('Thriller', 954), ('Mystery', 574), ('Biography', 520), ('Horror', 516), ('Sci-Fi', 396), ('Fantasy', 380), ('Animation', 253), ('History', 235), ('Family', 223), ('Music', 180), ('War', 141), ('Sport', 128), ('Western', 91), ('Musical', 88), ('Film-Noir', 45)]\n"
     ]
    }
   ],
   "source": [
    "# Genres Observation\n",
    "genre_counter = Counter(itertools.chain.from_iterable(high_quality_df['genres']))\n",
    "print(genre_counter.most_common())"
   ]
  },
  {
   "cell_type": "markdown",
   "id": "32a47abd-2523-45fb-948d-3790352b6717",
   "metadata": {},
   "source": [
    "### One-Hot Encoding"
   ]
  },
  {
   "cell_type": "code",
   "execution_count": 14,
   "id": "6a3494e0-25ce-4705-9049-489b0c4966e6",
   "metadata": {},
   "outputs": [],
   "source": [
    "# One-Hot Encode Genres\n",
    "from sklearn.preprocessing import MultiLabelBinarizer\n",
    "\n",
    "mlb = MultiLabelBinarizer()\n",
    "genre_encoded = mlb.fit_transform(high_quality_df['genres'])\n",
    "\n",
    "genre_df = pd.DataFrame(genre_encoded, columns=mlb.classes_)\n",
    "\n",
    "high_quality_df = pd.concat([high_quality_df.reset_index(drop=True), genre_df], axis=1)"
   ]
  },
  {
   "cell_type": "markdown",
   "id": "1b098d30-406c-4d66-ac0f-c804fafdb32b",
   "metadata": {},
   "source": [
    "## Keywords Cleaning"
   ]
  },
  {
   "cell_type": "code",
   "execution_count": 23,
   "id": "eac19556-09ff-4d0c-8859-fc5073bccfbc",
   "metadata": {
    "scrolled": true
   },
   "outputs": [
    {
     "name": "stdout",
     "output_type": "stream",
     "text": [
      "[('murder', 257), ('female nudity', 217), ('based on novel', 198), ('new york city', 194), ('female protagonist', 177), ('based on true story', 171), ('friendship', 169), ('revenge', 163), ('police', 160), ('violence', 147), ('sex scene', 146), ('character name as title', 140), ('love', 134), ('dog', 123), ('father son relationship', 122), ('death', 121), ('husband wife relationship', 119), ('neo noir', 114), ('father daughter relationship', 111), ('female frontal nudity', 110), ('f rated', 110), ('cult film', 109), ('sequel', 105), ('prison', 103), ('marriage', 95), ('male nudity', 95), ('mother son relationship', 94), ('black comedy', 93), ('female rear nudity', 93), ('gangster', 88), ('small town', 88), ('high school', 84), ('bare chested male', 83), ('nudity', 83), ('kidnapping', 82), ('one word title', 82), ('psychotronic film', 81), ('mother daughter relationship', 79), ('police officer', 79), ('drug', 77), ('rape', 77), ('infidelity', 75), ('female full frontal nudity', 74), ('suicide', 74), ('prostitute', 74), ('coming of age', 74), ('writer', 73), ('train', 73), ('alien', 73), ('teenage girl', 73), ('hospital', 72), ('serial killer', 72), ('superhero', 71), ('adultery', 71), ('dysfunctional family', 71), ('christmas', 70), ('african american', 69), ('national film registry', 68), ('soldier', 68), ('torture', 68), ('investigation', 68), ('lawyer', 68), ('1980s', 66), ('brother brother relationship', 66), ('car', 65), ('survival', 65), ('bare breasts', 64), ('title directed by female', 62), ('satire', 62), ('teenager', 62), ('family relationships', 62), ('conspiracy', 61), ('two word title', 61), ('friend', 61), ('wedding', 61), ('heist', 60), ('world war two', 60), ('1970s', 60), ('love triangle', 60), ('good versus evil', 59), ('1990s', 59), ('escape', 58), ('detective', 58), ('watching tv', 58), ('sex', 58), ('remake', 57), ('betrayal', 57), ('assassin', 57), ('man wears eyeglasses', 57), ('fight', 56), ('spy', 55), ('gay', 55), ('flashback', 55), ('monster', 55), ('teenage boy', 54), ('deception', 53), ('voyeur', 53), ('boyfriend girlfriend relationship', 53), ('male protagonist', 53), ('hotel', 53), ('doctor', 52), ('time travel', 52), ('surprise ending', 52), ('extramarital affair', 51), ('money', 50), ('brother sister relationship', 50), ('character name in title', 50), ('psychopath', 50), ('surrealism', 50), ('singing', 50), ('male frontal nudity', 50), ('male full frontal nudity', 50), ('dystopia', 49), ('singer', 49), ('chase', 48), ('male rear nudity', 48), ('scantily clad female', 48), ('kiss', 48), ('1960s', 48), ('blonde', 48), ('road trip', 48), ('desert', 47), ('blood', 47), ('rescue', 46), ('ghost', 46), ('criminal', 46), ('1940s', 46), ('funeral', 46), ('lesbian', 46), ('breast', 46), ('journalist', 45), ('party', 45), ('jealousy', 45), ('military', 44), ('road movie', 44), ('boy', 44), ('cigarette', 44), ('voice over narration', 43), ('gun', 43), ('cleavage', 43), ('cat', 43), ('panty', 43), ('teacher', 43), ('scientist', 42), ('based on comic book', 42), ('los angeles california', 42), ('england', 42), ('pubic hair', 42), ('widow', 42), ('school', 42), ('magic', 41), ('island', 41), ('shootout', 41), ('battle', 41), ('single mother', 41), ('1950s', 41), ('musician', 41), ('pantyhose', 41), ('racism', 41), ('london england', 40), ('martial arts', 40), ('supernatural power', 40), ('based on real person', 40), ('male objectification', 40), ('restaurant', 40), ('villain', 39), ('usa', 39), ('on the run', 39), ('robot', 39), ('voyeurism', 39), ('child', 39), ('paris france', 39), ('future', 38), ('organized crime', 38), ('baby', 38), ('drunkenness', 38), ('texas', 38), ('grief', 38), ('corruption', 38), ('dancing', 38), ('obsession', 38), ('based on play', 38), ('hostage', 37), ('strong female character', 37), ('femme fatale', 37), ('slapstick comedy', 37), ('vampire', 37), ('sister sister relationship', 37), ('secret', 37), ('action hero', 36), ('nightclub', 36), ('memory', 36), ('paranoia', 36), ('bar', 36), ('drug dealer', 36), ('girl', 36), ('politics', 36), ('bully', 36), ('tragedy', 36), ('dark comedy', 35), ('homosexual', 35), ('gang', 35), ('united states', 35), ('zombie', 35), ('best friend', 35), ('mental illness', 35), ('hero', 34), ('vomiting', 34), ('anti hero', 34), ('cancer', 34), ('hitman', 34), ('orphan', 34), ('nonlinear timeline', 34), ('child in jeopardy', 34), ('jungle', 33), ('helicopter', 33), ('terrorism', 33), ('terrorist', 33), ('period drama', 33), ('priest', 33), ('suspense', 33), ('nazi', 33), ('automobile', 33), ('columbia tristar', 33), ('timeframe 1990s', 33), ('fellatio', 33), ('pregnancy', 33), ('car accident', 33), ('neo screwball comedy', 33), ('lesbian kiss', 33), ('king', 32), ('robbery', 32), ('time bomb', 32), ('beach', 32), ('cell phone', 32), ('no opening credits', 32), ('title spoken by character', 32), ('public nudity', 32), ('divorce', 32), ('france', 31), ('post apocalypse', 31), ('alcoholic', 31), ('airport', 31), ('topless female nudity', 31), ('blockbuster', 30), ('stripper', 30), ('gore', 30), ('computer', 30), ('church', 30), ('fbi federal bureau of investigation', 30), ('professor', 30), ('lust', 30), ('timeframe 2000s', 30), ('dream', 30), ('psychiatrist', 30), ('strip club', 29), ('based on book', 29), ('police detective', 29), ('india', 29), ('manhattan new york city', 29), ('reporter', 29), ('loneliness', 29), ('american abroad', 28), ('thief', 28), ('fugitive', 28), ('three word title', 28), ('woman in jeopardy', 28), ('telephone call', 28), ('anger', 28), ('disney', 28), ('shot to death', 28), ('painting', 28), ('oral sex', 28), ('california', 28), ('snow', 28), ('actress', 28), ('courtroom', 28), ('rivalry', 27), ('bank', 27), ('forest', 27), ('written by director', 27), ('epic', 27), ('waitress', 27), ('horse', 27), ('original story', 27), ('1930s', 27), ('fear', 27), ('apartment', 27), ('second part', 26), ('race against time', 26), ('airplane', 26), ('journey', 26), ('vengeance', 26), ('parody', 26), ('native american', 26), ('on the road', 26), ('hallucination', 26), ('f word', 26), ('fbi agent', 26), ('dysfunctional marriage', 26), ('timeframe 1980s', 26), ('male pubic hair', 26), ('depression', 26), ('based on comic', 25), ('showdown', 25), ('bank robbery', 25), ('murder investigation', 25), ('class differences', 25), ('brutality', 25), ('chicago illinois', 25), ('muslim', 25), ('sheriff', 25), ('demon', 25), ('photographer', 25), ('independent film', 25), ('prisoner', 25), ('cigarette smoking', 25), ('baseball', 25), ('weapon', 24), ('breaking the fourth wall', 24), ('motor vehicle', 24), ('boat', 24), ('vigilante', 24), ('vietnam war', 24), ('sex in bed', 24), ('slimehouse', 24), ('nurse', 24), (\"character repeats someone else's dialogue\", 24), ('terminal illness', 24), ('college', 24), ('redemption', 24), ('twin', 24), ('hood', 24), ('teacher student relationship', 24), ('farce', 24), ('artist', 24), ('falling in love', 24), ('interracial relationship', 23), ('home invasion', 23), ('training', 23), ('underwater scene', 23), ('strong female lead', 23), ('explosion', 23), ('urban setting', 23), ('2000s', 23), ('religion', 23), ('birthday', 23), ('unfaithfulness', 23), ('shower', 23), ('1920s', 23), ('private detective', 23), ('actor', 23), ('farm', 23), ('masturbation', 23), ('neighbor', 23), ('pilot', 22), ('spaceship', 22), ('fire', 22), ('one man army', 22), ('wood', 22), ('army', 22), ('gay character', 22), ('cowboy', 22), ('19th century', 22), ('arizona', 22), ('manipulation', 22), ('drinking', 22), ('four word title', 22), ('slow motion scene', 22), ('lie', 22), ('nightmare', 22), ('timeframe 1950s', 22), ('espionage', 21), ('dead body', 21), ('talking animal', 21), ('time loop', 21), ('italy', 21), ('singing in a car', 21), ('manhunt', 21), ('evil man', 21), ('bullying', 21), ('bare butt', 21), ('book', 21), ('rape and revenge', 21), ('cemetery', 21), ('witch', 21), ('coach', 21), ('death of wife', 21), ('gambling', 21), ('student', 21), ('cocaine', 21), ('drug addict', 21), ('white panties', 21), ('spoof', 21), ('house', 21), ('mansion', 21), ('timeframe 1930s', 21), ('younger version of character', 20), ('hotel room', 20), ('gunfight', 20), ('one against many', 20), ('new york', 20), ('mafia', 20), ('courage', 20), ('bomb', 20), ('cgi animation', 20), ('trial', 20), ('lingerie', 20), ('amnesia', 20), ('2010s', 20), ('submarine', 20), ('cannibalism', 20), ('looking at oneself in a mirror', 20), ('teen movie', 20), ('assassination', 20), ('cult favorite', 20), ('grindhouse film', 20), ('fish out of water', 20), ('cheating wife', 20), ('wheelchair', 20), ('female removes her clothes', 20), ('timeframe 1970s', 20), ('wealth', 20), ('basketball', 20), ('dancer', 20), ('female pubic hair', 19), ('dc comics', 19), ('world war one', 19), ('blackmail', 19), ('car crash', 19), ('casino', 19), ('mercenary', 19), ('tragic event', 19), ('africa', 19), ('corpse', 19), ('taxi', 19), ('undercover', 19), ('outer space', 19), ('crime boss', 19), ('boxing', 19), ('die hard scenario', 19), ('village', 19), ('profanity', 19), ('year 1944', 19), ('female stockinged legs', 19), ('child abuse', 19), ('theft', 19), ('catholic', 19), ('seduction', 19), ('based on short story', 19), ('president', 19), ('werewolf', 19), ('bikini', 19), ('rain', 19), ('mistaken identity', 19), ('castle', 19), ('accident', 19), ('competition', 19), ('tough guy', 19), ('teen angst', 19), ('jew', 19), ('interrogation', 19), ('bicycle', 19), ('suicide attempt', 19), ('swimming pool', 19), ('jewish', 19), ('poverty', 19), ('court', 19), ('author', 19), ('car chase', 18), ('marijuana', 18), ('warrior', 18), ('alien invasion', 18), ('sniper', 18), ('death of daughter', 18), ('friendship between men', 18), ('punched in the face', 18), ('ex convict', 18), ('film within a film', 18), ('loss of virginity', 18), ('princess', 18), ('motel', 18), ('prostitution', 18), ('scotland', 18), ('female police officer', 18), ('vietnam war veteran', 18), ('travel', 18), ('mockumentary', 18), ('cold war', 18), ('adulterous wife', 18), ('arizona territory', 18), ('widower', 18), ('letter', 18), ('the white house', 18), ('culture clash', 18), ('judge', 18), ('abuse', 18), ('scene of the crime', 18), ('false accusation', 18), ('domestic violence', 18), ('rabbit', 18), ('timeframe 1940s', 18), ('old man', 18), ('alcoholism', 18), ('directorial debut', 18), ('marvel comics', 17), ('007', 17), ('disguise', 17), ('1910s', 17), ('scene during end credits', 17), ('australia', 17), ('marriage proposal', 17), ('faked death', 17), ('drug lord', 17), ('bus', 17), ('vacation', 17), ('neo western', 17), ('title based on song', 17), ('cia agent', 17), ('ship', 17), ('farmer', 17), ('supernatural horror', 17), ('computer animation', 17), ('police corruption', 17), ('justice', 17), ('found footage', 17), ('interracial romance', 17), ('murder of a police officer', 17), ('premarital sex', 17), ('aerial camera shot', 17), ('guilt', 17), ('skinny dipping', 17), ('satirical', 17), ('attempted suicide', 17), ('insanity', 17), ('directed by star', 17), ('gay interest', 17), ('song', 17), ('child protagonist', 17), ('dance', 17), ('painter', 17), ('minimal cast', 17), ('band', 17), ('con artist', 17), ('ex husband ex wife relationship', 17), ('womanizer', 17), ('official james bond series', 16), ('pig', 16), ('evil', 16), ('mission', 16), ('assassination attempt', 16), ('dragon', 16), ('cyberpunk', 16), ('coma', 16), ('incest', 16), ('united states of america', 16), ('cia central intelligence agency', 16), ('virus', 16), ('close up of eyes', 16), ('mexico', 16), ('greed', 16), ('mountain', 16), ('jail', 16), ('pregnant woman', 16), ('motorcycle', 16), ('queen', 16), ('blood splatter', 16), ('missing person', 16), ('woman on top', 16), ('abduction', 16), ('told in flashback', 16), ('horseback riding', 16), ('slasher', 16), ('implied sex', 16), ('cry', 16), ('dating', 16), ('body horror', 16), ('mental institution', 16), ('journalism', 16), ('older man younger woman relationship', 16), ('u.s. navy', 15), ('secret agent', 15), ('marvel cinematic universe', 15), ('museum', 15), ('ensemble cast', 15), ('medieval times', 15), ('shared universe', 15), ('captain', 15), ('gay kiss', 15), ('inventor', 15), ('mobster', 15), ('astronaut', 15), ('boxer', 15), ('buddy movie', 15), ('apocalypse', 15), ('nun', 15), ('sword', 15), ('corrupt cop', 15), ('bound and gagged', 15), ('night', 15), ('sea', 15), ('arizona desert', 15), ('japan', 15), ('surveillance', 15), ('train station', 15), ('borderline personality disorder', 15), ('gender in title', 15), ('beating', 15), ('ireland', 15), ('20th century', 15), ('drug addiction', 15), ('typewriter', 15), ('forename as title', 15), ('casual sex', 15), ('single father', 15), ('unrequited love', 15), ('rural setting', 15), ('older woman younger man relationship', 15), ('sex comedy', 15), ('black panties', 15), ('suburb', 15), ('immigrant', 14), ('based on video game', 14), ('bank robber', 14), ('combat', 14), ('artificial intelligence', 14), ('based on tv series', 14), ('prequel', 14), ('ocean', 14), ('university', 14), ('wisecrack humor', 14), ('u.s. soldier', 14), ('city', 14), ('vietnam', 14), ('nipples visible through clothing', 14), ('social commentary', 14), ('scene during opening credits', 14), ('serial murder', 14), ('panic', 14), ('halloween', 14), ('group of friends', 14), ('mistress', 14), ('escape from prison', 14), ('forbidden love', 14), ('medium', 14), ('television', 14), ('stalker', 14), ('psycho thriller', 14), ('high school student', 14), ('tattoo', 14), ('stop motion animation', 14), ('adult animation', 14), ('monkey', 14), ('arrest', 14), ('bear', 14), ('bird', 14), ('murder of a nude woman', 14), ('athlete', 14), ('murder of a child', 14), ('homophobia', 14), ('policeman', 14), ('crying woman', 14), ('businessman', 14), ('loss of father', 14), ('newspaper', 14), ('addiction', 14), ('prejudice', 14), ('college student', 14), ('dinosaur', 13), ('wizard', 13), ('creature feature', 13), ('shooting', 13), ('batman character', 13), ('disaster film', 13), ('massacre', 13), ('graphic violence', 13), ('pirate', 13), ('bounty hunter', 13), ('love interest', 13), ('kung fu', 13), ('library', 13), ('game', 13), ('christmas movie', 13), ('art', 13), ('immortality', 13), ('subway', 13), ('knife', 13), ('u.s. army', 13), ('official bond film', 13), ('creature', 13), ('first part', 13), ('psychic', 13), ('screenplay adapted by author', 13), ('survival horror', 13), ('mask', 13), ('rape victim', 13), ('opening action scene', 13), ('ambiguous ending', 13), ('cult', 13), ('police investigation', 13), ('shotgun', 13), ('firearm', 13), ('fairy tale', 13), ('hunting', 13), ('blonde woman', 13), ('afghanistan', 13), ('storm', 13), ('double cross', 13), ('fistfight', 13), ('sibling rivalry', 13), ('circus', 13), ('football', 13), ('pill', 13), ('death of brother', 13), ('russian', 13), ('winter', 13), ('frame up', 13), ('nickname as title', 13), ('u.s. car', 13), ('revisionist western', 13), ('little girl', 13), ('canada', 13), ('undressing', 13), ('filmmaking', 13), ('interview', 13), ('photograph', 13), ('holiday', 13), ('woman wears eyeglasses', 13), ('whodunit', 13), ('one night stand', 13), ('pianist', 13), ('teen comedy', 13), ('virgin', 13), ('scandal', 13), ('radio', 13), ('argument', 13), ('breakup', 13), ('concert', 13), ('2d animation', 13), ('mouse', 13), ('anthropomorphic animal', 12), ('hand to hand combat', 12), ('adoption', 12), ('murderess', 12), ('criminal investigation', 12), ('teenage protagonist', 12), ('tough girl', 12), ('female assassin', 12), ('father', 12), ('existentialism', 12), ('rat', 12), ('hatred', 12), ('end of the world', 12), ('loss of loved one', 12), ('police brutality', 12), ('zombie apocalypse', 12), ('attempted rape', 12), ('famous line', 12), ('shot in the head', 12), ('male bonding', 12), ('alternate reality', 12), ('sword and sorcery', 12), ('magician', 12), ('hare krishna', 12), ('blindness', 12), ('mirror', 12), ('upskirt', 12), ('american civil war', 12), ('u.s. military', 12), ('spacecraft', 12), ('stalking', 12), ('final showdown', 12), ('sexy woman', 12), ('movie theater', 12), ('alcohol', 12), ('diamond', 12), ('montage', 12), ('wolf', 12), ('alaska', 12), ('poet', 12), ('moral dilemma', 12), ('dinner', 12), ('russia', 12), ('toilet', 12), ('summer', 12), ('cult director', 12), ('boarding school', 12), ('timeframe 19th century', 12), ('timeframe 1960s', 12), ('speech', 12), ('hairy chest', 12), ('faith', 12), ('romantic rivalry', 12), ('disappearance', 12), ('rock star', 12), ('brothel', 12), ('cricket the sport', 12), ('unemployment', 12), ('curse', 12), ('inheritance', 12), ('illness', 12), ('mental breakdown', 12), ('teenage pregnancy', 12), ('based on stage musical', 12), ('cunnilingus', 12), ('food', 12), ('melodrama', 12), ('haunted house', 12), ('screwball comedy', 12), ('diner', 12), ('animal', 12), ('guitar', 12), ('anthology', 12), ('working class', 12), ('water', 11), ('sword fight', 11), ('action heroine', 11), ('mutant', 11), ('narrated by character', 11), ('long take', 11), ('sabotage', 11), ('cabin in the woods', 11), ('swimming', 11), ('genius', 11), ('drug cartel', 11), ('great depression', 11), ('wilderness', 11), ('gothic', 11), ('time machine', 11), ('bodyguard', 11), ('stabbing', 11), ('framed for murder', 11), ('tourist', 11), ('call girl', 11), ('samurai', 11), ('sheep', 11), ('man tied up', 11), ('pursuit', 11), ('brainwashing', 11), ('ice', 11), ('execution', 11), ('character names as title', 11), ('hell', 11), ('san francisco california', 11), ('body lands on a car', 11), ('buddy comedy', 11), ('downward spiral', 11), ('release from prison', 11), ('civil war', 11), ('lesbian sex', 11), ('riot', 11), ('lesbian relationship', 11), ('sadism', 11), ('absurd comedy', 11), ('haunted by the past', 11), ('color in title', 11), ('cigar smoking', 11), ('rifle', 11), ('moon', 11), ('gay slur', 11), ('hitchhiker', 11), ('underwear', 11), ('multiple perspectives', 11), ('what happened to epilogue', 11), ('italian american', 11), ('ambition', 11), ('male female relationship', 11), ('cover up', 11), (\"rock 'n' roll\", 11), ('film industry', 11), ('written and directed by cast member', 11), ('homoeroticism', 11), ('tv news', 11), ('boy wears eyeglasses', 11), ('year 1993', 11), ('seattle washington', 11), ('politician', 11), ('misogyny', 11), ('afi', 11), ('drug use', 11), ('schizophrenia', 11), ('orgy', 11), ('self discovery', 11), ('year 1945', 11), ('homosexuality', 11), ('race relations', 11), ('janitor', 11), ('transgender', 11), ('chef', 11), ('unhappy marriage', 11), ('dinner party', 11), ('river', 11), ('maid', 11), ('cabin', 11), ('arranged marriage', 11), ('animal character name as title', 11), ('nanny', 11), ('viking', 10), ('james bond character', 10), ('novelist', 10), ('virtual reality', 10), ('heroin', 10), ('drone', 10), ('based on young adult novel', 10), ('tough woman', 10), ('mentor', 10), ('gay couple', 10), ('disaster', 10), ('prison escape', 10), ('gambler', 10), ('hong kong', 10), ('snake', 10), ('revolver', 10), ('domineering mother', 10), ('woman wears a bikini', 10), ('ghetto', 10), ('political thriller', 10), ('zoo', 10), ('british secret service', 10), ('pistol', 10), ('ransom', 10), ('yakuza', 10), ('police station', 10), ('exploitation', 10), ('outlaw', 10), ('ritual', 10), ('planet', 10), ('toy', 10), ('cook', 10), ('time traveler', 10), ('shark', 10), ('bisexual', 10), ('altered version of studio logo', 10), ('revolution', 10), ('remake of french film', 10), ('knight', 10), ('experiment', 10), ('face slap', 10), ('surname as title', 10), ('doppelganger', 10), ('3 dimensional', 10), ('slave', 10), ('demonic possession', 10), ('camp', 10), ('17th century', 10), ('alternate history', 10), ('internet', 10), ('dying young', 10), ('drifter', 10), ('sexism', 10), ('fish', 10), ('fishing', 10), ('irish', 10), ('barefoot male', 10), ('gift', 10), ('bad guy wins', 10), ('menage a trois', 10), ('friendship between women', 10), ('epidemic', 10), ('foot chase', 10), ('sexual abuse', 10), ('absurdism', 10), ('imagination', 10), ('laundry drying on a clothesline', 10), ('city name in title', 10), ('ptsd post traumatic stress disorder', 10), ('drug dealing', 10), ('sports team', 10), ('marital separation', 10), ('hanging', 10), ('self destructiveness', 10), ('yuppie', 10), ('punctuation in title', 10), ('sexual harassment', 10), ('man wrapped in a towel', 10), ('isolation', 10), ('juvenile delinquent', 10), ('drug abuse', 10), ('erotic thriller', 10), ('audition', 10), ('piano', 10), ('coming out', 10), ('caught having sex', 10), ('southern gothic', 10), ('misunderstanding', 10), ('office', 10), ('columbia tristar home video', 10), ('abusive husband', 10), ('drawing', 10), ('courtroom drama', 10), ('casting couch', 10), ('writing', 10), ('reconciliation', 10), ('key', 10), ('political satire', 10), ('midlife crisis', 10), ('factory', 10), ('chinese', 9), ('nihilism', 9), ('killing an animal', 9), ('treasure', 9), ('mind control', 9), ('space travel', 9), ('slavery', 9), ('technology', 9), ('third part', 9), ('british', 9), ('rear entry sex', 9), ('woman murders a man', 9), ('honor', 9), ('secret identity', 9), ('autism', 9), ('tape over mouth', 9), ('female warrior', 9), ('crying man', 9), ('hypnosis', 9), ('tied feet', 9), ('reference to arizona', 9), ('film director', 9), ('bra', 9), ('undercover cop', 9), ('death of protagonist', 9), ('self sacrifice', 9), ('washington d.c.', 9), ('non comic book superhero', 9), ('country music', 9), ('undercover agent', 9), ('ex boyfriend ex girlfriend relationship', 9), ('rock band', 9), ('opera', 9), ('elf', 9), ('upper class', 9), ('female bonding', 9), ('comic relief', 9), ('plot twist', 9), ('hacker', 9), ('male wears underwear', 9), ('mixed martial arts', 9), ('tournament', 9), ('abuse of power', 9), ('18th century', 9), ('presumed dead', 9), ('vigilantism', 9), ('female stockinged feet', 9), ('beer', 9), ('europe', 9), ('sociopath', 9), ('angel', 9), ('kissing while having sex', 9), ('false identity', 9), ('human animal relationship', 9), ('telekinesis', 9), ('nasa', 9), ('alternate timeline', 9), ('video camera', 9), ('single parent', 9), ('istanbul turkey', 9), ('military uniform', 9), ('brother', 9), ('prologue', 9), ('attempted murder', 9), ('ape', 9), ('stabbed to death', 9), ('transformation', 9), ('ring', 9), ('death of father', 9), ('political corruption', 9), ('machismo', 9), ('death of husband', 9), ('power', 9), ('prince', 9), ('true crime', 9), ('outdoor sex', 9), ('brunette', 9), ('interrupted sex', 9), ('secret service', 9), ('gunfire', 9), ('telephone terror', 9), ('rapist', 9), ('timeframe 2010s', 9), ('timeframe 21st century', 9), ('communism', 9), ('attic', 9), ('underdog', 9), ('payphone', 9), ('prison guard', 9), ('stupidity', 9), ('father son estrangement', 9), ('boston massachusetts', 9), ('frog', 9), ('punk', 9), ('child with a gun', 9), ('homicide', 9), ('female masturbation', 9), ('fraud', 9), ('ford', 9), ('elephant', 9), ('title same as book', 9), ('folk horror', 9), ('red dress', 9), ('actor playing multiple roles', 9), ('telepathy', 9), ('hit by a car', 9), ('architect', 9), ('animal in title', 9), ('flower', 9), ('american football', 9), ('christianity', 9), ('uncle niece relationship', 9), ('suspicion', 9), ('reincarnation', 9), ('erection', 9), ('puppy', 9), ('germany', 9), ('secretary', 9), ('mayor', 9), ('social satire', 9), ('gay relationship', 9), ('narcissism', 9), ('fashion', 9), ('aging', 9), ('magical realism', 9), ('based on the works of stephen king', 9), ('single set production', 9), ('overall', 9), ('pimp', 9), ('sexuality', 9), ('lingerie slip', 9), ('reading', 9), ('jazz', 9), ('lake', 9), ('loss of mother', 9), ('nickname', 9), ('assumed identity', 9), ('black american', 9), ('murder trial', 9), ('afterlife', 9), ('nostalgia', 9), ('fired from a job', 9), ('birthday party', 9), ('artistic creation', 9), ('basement', 9), ('hitchcockian', 9), ('butler', 9), ('delusion', 9), ('divorcee', 9), ('therapist', 9), ('unfaithful wife', 9), ('southern u.s.', 9), ('celebrity', 9), ('eccentricity', 9), ('poison', 8), ('model', 8), ('burned alive', 8), ('truck', 8), ('spider', 8), ('female star appears nude', 8), ('alien contact', 8), ('product placement', 8), ('computer hacker', 8), ('impostor', 8), ('scene after end credits', 8), ('talking to the camera', 8), ('gold', 8), ('rescue mission', 8), ('agent', 8), ('police chase', 8), ('christmas eve', 8), ('street shootout', 8), ('cyborg', 8), ('sunglass', 8), ('car racing', 8), ('patriotism', 8), ('sign language', 8), ('wild west', 8), ('convict', 8), ('final battle', 8), ('elevator', 8), ('stockholm syndrome', 8), ('wrongful conviction', 8), ('south korea', 8), ('blind man', 8), ('sole survivor', 8), ('smuggling', 8), ('evil woman', 8), ('stoner', 8), ('gunslinger', 8), ('bos', 8), ('cave', 8), ('witchcraft', 8), ('modern western', 8), ('no title at beginning', 8), ('male female friendship', 8), ('portal', 8), ('high school reunion', 8), ('based on short film', 8), ('villainess', 8), ('stranded', 8), ('iraq', 8), ('engineer', 8), ('buddy cop', 8), ('destiny', 8), ('chess', 8), ('decapitation', 8), ('world war two soldier', 8), ('whipping', 8), ('friendship between boys', 8), ('director cameo', 8), ('no panties', 8), ('numbered sequel', 8), ('genocide', 8), ('thailand', 8), ('lion', 8), ('homelessness', 8), ('mute', 8), ('woman wears lingerie', 8), ('new orleans louisiana', 8), ('low budget sci fi movie', 8), ('refugee', 8), ('language barrier', 8), ('irish republican army', 8), ('date', 8), ('roommate', 8), ('split screen', 8), ('american', 8), ('horse riding', 8), ('pay phone', 8), ('experimental film', 8), ('millionaire', 8), ('eaten alive', 8), ('panties pulled down', 8), ('sexual attraction', 8), ('cartoon on tv', 8), ('held at gunpoint', 8), ('invisibility', 8), ('storytelling', 8), ('b movie', 8), ('thanksgiving', 8), ('racial slur', 8), ('psychologist', 8), ('forced to strip', 8), ('principal', 8), ('child prodigy', 8), ('pedophilia', 8), ('fox', 8), ('hip hop', 8), ('kissing', 8), ('louisiana', 8), ('male police officer', 8), ('brooklyn new york city', 8), ('pakistan', 8), ('mad scientist', 8), ('promise', 8), ('possession', 8), ('literature on screen', 8), ('five word title', 8), ('local blockbuster', 8), ('escaped convict', 8), ('couple', 8), ('nipple', 8), ('convertible', 8), ('supermarket', 8), ('obsessive love', 8), ('throat slitting', 8), ('slacker', 8), ('triple f rated', 8), ('jazz music', 8), ('mother', 8), ('ku klux klan', 8), ('dialogue driven', 8), (\"writer's block\", 8), ('las vegas nevada', 8), ('gold digger', 8), ('anal sex', 8), ('sex addict', 8), ('erotica', 8), ('clown', 8), ('employer employee relationship', 8), ('holocaust', 8), ('senator', 8), ('farmhouse', 8), ('title written by female', 8), ('promiscuous woman', 8), ('uncle nephew relationship', 8), ('hope', 8), ('unlikely friendship', 8), ('african american protagonist', 8), ('childhood trauma', 8), ('construction site', 8), ('divorced parents', 8), ('cake', 8), ('humiliation', 8), ('homosexual subtext', 8), ('childhood', 8), ('family secret', 8), ('old woman', 8), ('hollywood california', 8), ('screenwriter', 8), ('soccer', 8), ('peeping tom', 8), ('grandmother granddaughter relationship', 8), ('chicken', 8), ('penis', 8), ('1890s', 8), ('videotape', 8), ('cheating husband', 8), ('manic pixie dream girl', 8), ('record player', 8), ('retirement', 8), ('election', 8), ('coitus', 8), ('lgbt', 7), ('bruce wayne character', 7), ('clone', 7), ('capitalism', 7), ('giant monster', 7), ('quest', 7), ('taxi driver', 7), ('feminism', 7), ('tribe', 7), ('very little dialogue', 7), ('based on graphic novel', 7), ('space station', 7), ('trapped in a time loop', 7), ('mob boss', 7), ('cow', 7), ('interracial friendship', 7), ('playboy', 7), ('psychological torture', 7), ('smuggler', 7), ('body swap', 7), ('behind enemy lines', 7), ('nazi germany', 7), ('firefighter', 7), ('natural disaster', 7), ('dictator', 7), ('superhero team', 7), ('terrorist plot', 7), ('comic book', 7), ('fatherhood', 7), ('fighting', 7), ('amusement park', 7), ('gunfighter', 7), ('cameo', 7), ('sacrifice', 7), ('motherhood', 7), ('lesbianism', 7), ('death of friend', 7), ('cool', 7), ('medical examination', 7), ('pet dog', 7), ('surgeon', 7), ('general', 7), ('pandemic', 7), ('workaholic', 7), ('secret mission', 7), ('colombia', 7), ('veteran', 7), ('falling from height', 7), ('anthropomorphism', 7), ('fraternity', 7), ('close up of eye', 7), ('china', 7), ('wilhelm scream', 7), ('hunt', 7), ('expedition', 7), ('truck driver', 7), ('drug smuggling', 7), ('debt', 7), ('united kingdom', 7), ('surname in title', 7), ('cruelty', 7), ('destruction', 7), ('underage drinking', 7), ('loss of son', 7), ('police shootout', 7), ('kgb', 7), ('iraq war', 7), ('vigilante justice', 7), ('quarantine', 7), ('biker', 7), ('outlaw gang', 7), ('cowboy hat', 7), ('self defense', 7), ('beauty pageant', 7), ('prison break', 7), ('egypt', 7), ('american history', 7), ('reckless driving', 7), ('criminal mastermind', 7), ('bride', 7), ('hunter', 7), ('islam', 7), ('submarine movie', 7), ('machine', 7), ('witness', 7), ('interracial kiss', 7), ('hawaii', 7), ('adventurer', 7), ('surgery', 7), ('steampunk', 7), ('holster', 7), ('man punches a woman', 7), ('survivor', 7), ('flash forward', 7), ('contemporary western', 7), ('mexican', 7), ('firework', 7), (\"alzheimer's disease\", 7), ('tied to a chair', 7), ('bar fight', 7), ('classical music', 7), ('female agent', 7), ('job interview', 7), ('year 1969', 7), ('western town', 7), ('fairy', 7), ('flight', 7), ('exorcism', 7), ('disease', 7), ('ninja', 7), ('person in a car trunk', 7), ('south africa', 7), ('self mutilation', 7), ('boxing match', 7), ('wristwatch', 7), ('female reporter', 7), ('arab', 7), ('apostrophe in title', 7), ('giant', 7), ('goofball', 7), ('chevrolet', 7), ('mentor protege relationship', 7), ('year 1981', 7), ('german', 7), ('low budget film', 7), ('father figure', 7), ('abraham lincoln character', 7), ('troubled production', 7), ('loyalty', 7), ('mass murder', 7), ('old age', 7), ('one last job', 7), ('subtitled scene', 7), ('pop music', 7), ('morgue', 7), ('heroine', 7), ('characters murdered one by one', 7), ('cousin cousin relationship', 7), ('pizza', 7), ('caper crime', 7), ('lighthouse', 7), ('orphanage', 7), ('injustice', 7), ('conspiracy theory', 7), ('axe', 7), ('smoking marijuana', 7), ('murder of a pregnant woman', 7), ('heaven', 7), ('place name in title', 7), ('n word', 7), ('rap music', 7), ('child uses a gun', 7), ('psychopathic killer', 7), ('fiance fiancee relationship', 7), ('disability', 7), ('extraterrestrial', 7), ('florida', 7), ('australian', 7), ('hat', 7), ('year 1973', 7), ('young love', 7), ('year 1943', 7), ('spain', 7), ('love at first sight', 7), ('filmmaker', 7), ('burglary', 7), ('female serial killer', 7), ('honeymoon', 7), ('scam', 7), ('job', 7), ('psychological drama', 7), ('psychological horror', 7), ('age difference', 7), ('psychological', 7), ('drug overdose', 7), ('female full rear nudity', 7), ('wrapped in a towel', 7), ('marital problem', 7), ('gay teenager', 7), ('abortion', 7), ('mississippi', 7), ('bachelor party', 7), ('loss of wife', 7), ('lawsuit', 7), ('nosebleed', 7), ('jukebox musical', 7), ('portrait', 7), ('virginity', 7), ('mathematician', 7), ('rise and fall', 7), ('cooking', 7), ('dementia', 7), ('six word title', 7), ('closeted homosexual', 7), ('civil war veteran', 7), ('mysterious stranger', 7), ('miner', 7), ('american politics', 7), ('composer', 7), ('cheerleader', 7), ('racial discrimination', 7), ('teenage sex', 7), ('catholic church', 7), ('scream', 7), ('butcher', 7), ('graveyard', 7), ('neighborhood', 7), ('stranger', 7), ('missing child', 7), ('female friendship', 7), ('pulitzer prize source', 7), ('dreamworks', 7), ('1860s', 7), ('subjective camera', 7), ('bridge', 7), ('dance movie', 7), ('cafe', 7), ('preacher', 7), ('comedian', 7), ('psychiatric hospital', 7), ('gothic horror', 7), ('apology', 7), ('tomboy', 7), ('reference to william shakespeare', 7), ('minnesota', 7), ('hippie', 7), ('tree', 7), ('diary', 7), ('gambling debt', 7), ('sexual awakening', 7), ('timeframe 1920s', 7), ('civil rights', 7), ('gay protagonist', 7), ('half dressed cartoon animal', 7), ('rehabilitation', 7), ('reference to a zodiac sign', 7), ('superstition', 7), ('self referential', 7), ('telephone', 7), ('apartment building', 7), ('sexual humor', 7), ('anthology film', 7), ('santa claus', 7), ('donkey', 7), ('aviation', 6), ('peter parker character', 6), ('damsel in distress', 6), ('gun battle', 6), ('time paradox', 6), ('rogue agent', 6), ('poker game', 6), ('sorcerer', 6), ('sherlock holmes character', 6), ('team', 6), ('woman wears a bra', 6), ('commando', 6), ('yacht', 6), ('fake identity', 6), ('tied up while barefoot', 6), ('dark past', 6), ('death of child', 6), ('bare midriff', 6), ('superhuman strength', 6), ('fictional war', 6), ('near death experience', 6), ('death of girlfriend', 6), ('super villain', 6), ('back from the dead', 6), ('plane', 6), ('airplane crash', 6), ('open ended', 6), ('male alien', 6), ('vehicle', 6), ('u.s. marshal', 6), ('shapeshifting', 6), ('infection', 6), ('penguin', 6), ('sewer', 6), ('sexual assault', 6), ('katana', 6), ('historical fiction', 6), ('held hostage', 6), ('forgiveness', 6), ('loner', 6), ('wedding ring', 6), ('machine gun', 6), ('murder by gunshot', 6), ('drug deal', 6), ('dark horse comics', 6), ('social decay', 6), ('street gang', 6), ('miniaturization', 6), ('secret service agent', 6), ('tough cop', 6), ('impersonation', 6), ('geek', 6), ('baseball bat', 6), ('rage', 6), ('urban decay', 6), ('live action cgi hybrid', 6), ('gadget car', 6), ('whale', 6), ('bible', 6), ('shot in the chest', 6), ('materialism', 6), ('resistance', 6), ('cure', 6), ('one woman army', 6), ('science', 6), ('controversy', 6), ('star died before release', 6), ('navy', 6), ('android', 6), ('trapped', 6), ('hurricane', 6), ('moscow russia', 6), ('knife fight', 6), ('kicked in the crotch', 6), ('campfire', 6), ('human sacrifice', 6), ('rebellion', 6), ('game of death', 6), ('tiger', 6), ('daughter', 6), ('earthquake', 6), ('same actor playing two characters simultaneously on screen', 6), ('switzerland', 6), ('old west', 6), ('planet of the apes', 6), ('wound', 6), ('vacation gone wrong', 6), ('eyeglass', 6), ('imperialism', 6), ('partner', 6), ('mythology', 6), ('freedom', 6), ('berlin germany', 6), ('nuclear war', 6), ('psychological thriller', 6), ('compassion', 6), ('football team', 6), ('hostage situation', 6), ('repeat sequel', 6), ('childhood memory', 6), ('hixploitation', 6), ('group therapy', 6), ('fantasy world', 6), ('hidden camera', 6), ('death of mother', 6), ('kill', 6), ('australian outback', 6), ('pub', 6), ('maniac', 6), ('cheating', 6), ('kingdom', 6), ('solitary confinement', 6), ('man murders a woman', 6), ('poetry', 6), ('machete', 6), ('affair', 6), ('ira', 6), ('remake by original director', 6), ('therapy', 6), ('scar', 6), ('dentist', 6), ('suitcase', 6), ('bully comeuppance', 6), ('gas station', 6), ('gay subtext', 6), ('feud', 6), ('shooting a woman', 6), ('singing girl', 6), ('masked killer', 6), ('telephone booth', 6), ('young girl', 6), ('blaxploitation', 6), ('pregnant', 6), ('prison visit', 6), ('railway station', 6), ('heiress', 6), ('ice age', 6), ('bipolar disorder', 6), ('rough sex', 6), ('ends with freeze frame', 6), ('prohibition', 6), ('ottoman empire', 6), ('political conspiracy', 6), ('horror for children', 6), ('minister', 6), ('middle ages', 6), ('exploding car', 6), ('con', 6), ('japanese', 6), ('shot in the leg', 6), ('temple', 6), ('stop motion', 6), ('german car', 6), ('pickpocket', 6), ('hitchhiking', 6), ('dual role', 6), ('lifting someone into the air', 6), ('criminal gang', 6), ('caveman', 6), ('twist ending', 6), ('discrimination', 6), ('shooting a police officer', 6), ('post punk', 6), ('breaking and entering', 6), ('murder of a nude man', 6), ('man hits a woman', 6), ('motel room', 6), ('tragic ending', 6), ('running', 6), ('homecoming', 6), ('gas mask', 6), ('intergenerational friendship', 6), ('grave', 6), ('severed head', 6), ('extreme violence', 6), ('war crime', 6), ('extortion', 6), ('camera', 6), ('dead body in a car trunk', 6), ('danger', 6), ('wish', 6), ('russian roulette', 6), ('mumbai india', 6), ('year 1984', 6), ('rehearsal', 6), ('parallel universe', 6), ('bombing', 6), ('repetition in title', 6), ('gang rape', 6), ('fate', 6), ('psycho killer', 6), ('male in a shower', 6), ('man in a shower', 6), ('protest', 6), ('misogynist', 6), ('housekeeper', 6), ('murder mystery', 6), ('first love', 6), ('music band', 6), ('dog movie', 6), ('murder suspect', 6), ('misfit', 6), ('ballet', 6), ('chick flick', 6), ('uncle', 6), ('mental hospital', 6), ('gay friend', 6), ('deafness', 6), ('abusive father', 6), ('coincidence', 6), ('prime minister', 6), ('immigration', 6), ('tradition', 6), ('detroit michigan', 6), ('convent', 6), ('countryside', 6), ('portland oregon', 6), ('legend', 6), ('innocence', 6), ('laboratory', 6), ('based on autobiography', 6), ('obsessive compulsive disorder', 6), ('ranch', 6), ('latin america', 6), ('bookstore', 6), ('dying', 6), ('papadum', 6), ('bed', 6), ('deal with the devil', 6), ('regret', 6), ('drowning', 6), ('true love', 6), ('butterfly effect', 6), ('wine', 6), ('montana', 6), ('fantasy sequence', 6), ('rabbi', 6), ('timeframe 1910s', 6), ('crush', 6), ('halloween costume', 6), ('black pantyhose', 6), ('leg spreading', 6), ('burglar', 6), ('loss of brother', 6), ('neighbor neighbor relationship', 6), ('neo nazi', 6), ('cross dressing', 6), ('symbolism', 6), (\"character's point of view camera shot\", 6), ('new mexico', 6), ('happiness', 6), ('period piece', 6), ('elvis presley character', 6), ('death penalty', 6), ('gender disguise', 6), ('shakespeare play', 6), ('trauma', 6), ('buried alive', 6), ('servant', 6), ('psychoanalysis', 6), ('whistleblower', 6), ('nerd', 6), ('electrocution', 6), ('bet', 6), ('talking about sex', 6), ('soviet union', 6), ('overhead camera shot', 6), ('selfishness', 6), ('anti semitism', 6), (\"asperger's syndrome\", 6), ('talking to oneself', 6), ('bechdel test passed', 6), ('loss of daughter', 6), ('new jersey', 6), ('nude swimming', 6), ('tv show', 6), ('man wears underwear', 6), ('fictional tv show', 6), ('mockumentary comedy', 6), ('horse drawn carriage', 6), ('insurance fraud', 6), ('man in a bathtub', 6), ('grandfather grandson relationship', 6), ('gossip', 6), ('woman in a bathtub', 6), ('foreign language adaptation', 6), ('christmas horror', 6), ('stoner comedy', 6), ('jurassic park', 5), ('tyrannosaurus rex', 5), ('multiverse', 5), ('dark', 5), ('lovecraftian', 5), ('spider man character', 5), ('sidekick', 5), ('ambulance', 5), ('heist gone wrong', 5), ('ethan hunt character', 5), ('supervillain', 5), ('russian mafia', 5), ('superheroine', 5), ('duel', 5), ('airplane accident', 5), ('british soldier', 5), ('secret society', 5), ('nuclear explosion', 5), ('swat team', 5), ('haunting', 5), ('prophecy', 5), ('dc extended universe', 5), ('government', 5), ('reboot', 5), ('crash landing', 5), ('secret organization', 5), ('commando mission', 5), ('resurrection', 5), ('singapore', 5), ('near future', 5), ('billionaire', 5), ('brother sister incest', 5), ('captive', 5), ('male time traveler', 5), ('kaiju', 5), ('contract killer', 5), ('fictional country', 5), ('aunt niece relationship', 5), ('returning character killed off', 5), ('alien creature', 5), ('german soldier', 5), ('origin of hero', 5), ('historically inaccurate', 5), ('white savior', 5), ('futuristic', 5), ('texas ranger', 5), ('superman character', 5), ('hit in the crotch', 5), ('anti war', 5), ('martial artist', 5), ('interpol', 5), ('wife', 5), ('war criminal', 5), ('motor car', 5), ('aircraft cockpit', 5), ('masked man', 5), ('child kidnapping', 5), ('time', 5), ('secret past', 5), ('outbreak', 5), ('hairdresser', 5), ('pervert', 5), ('female police officer deceased', 5), ('french', 5), ('car bomb', 5), ('crossbow', 5), ('posse', 5), ('triad', 5), ('cynicism', 5), ('felix leiter character', 5), ('totalitarianism', 5), ('heroism', 5), ('porn star', 5), ('private investigator', 5), ('barefoot woman', 5), ('monster movie', 5), ('teleportation', 5), ('dark hero', 5), ('stylized violence', 5), ('vampire hunter', 5), ('disc jockey', 5), ('parenting', 5), ('male friendship', 5), ('club', 5), ('alienation', 5), ('shack', 5), ('zombie outbreak', 5), ('pacific ocean', 5), ('hacking', 5), ('warplane', 5), ('handgun', 5), ('police raid', 5), ('cannibal', 5), ('wyoming', 5), ('threesome', 5), ('mysterious man', 5), ('dracula', 5), ('terrorist attack', 5), ('u boat', 5), ('train crash', 5), ('political assassination', 5), ('president of the united states', 5), ('publisher', 5), ('taliban', 5), ('virginia', 5), ('mutation', 5), ('sailboat', 5), ('storm at sea', 5), ('voodoo', 5), ('radiation', 5), ('lego', 5), ('military officer', 5), ('shopping mall', 5), ('car theft', 5), ('greek', 5), ('coffin', 5), ('shoulder holster', 5), ('driving', 5), ('prisoner of war', 5), ('death of sister', 5), ('london underground', 5), ('box', 5), ('evil corporation', 5), ('bloody face', 5), ('trapped in space', 5), ('ice skating', 5), ('absent father', 5), ('female spy', 5), ('automatic weapon', 5), ('gang leader', 5), ('redneck', 5), ('woman fights a man', 5), ('billiards', 5), ('mob hit', 5), ('full moon', 5), ('reference to star wars', 5), ('action violence', 5), ('political cover up', 5), ('mind game', 5), ('anime', 5), ('bladed weapon', 5), ('child custody', 5), ('gym', 5), ('law', 5), ('video footage', 5), ('poisoning', 5), ('corrupt police', 5), ('undead', 5), ('gun violence', 5), ('australian aborigine', 5), ('spell', 5), ('woman wears black lingerie', 5), ('explorer', 5), ('raft', 5), ('saxophone', 5), ('lawnmower', 5), ('van', 5), ('santa claus character', 5), ('brazil', 5), ('ambush', 5), ('frustration', 5), ('tragic love', 5), ('contest', 5), ('traitor', 5), ('hit by a truck', 5), (\"new year's eve\", 5), ('explosive', 5), ('movie reality crossover', 5), ('corrupt politician', 5), ('intrigue', 5), ('roman empire', 5), ('career criminal', 5), ('gang war', 5), ('nazi officer', 5), ('trap', 5), ('young boy', 5), ('lovers on the lam', 5), ('woman wears a bra and panties', 5), ('limousine', 5), ('stock market', 5), ('taunting', 5), ('fog', 5), ('horse movie', 5), ('sex standing up', 5), ('mannequin', 5), ('absurd violence', 5), ('drive in classic', 5), ('man shot to death', 5), ('police officer killed', 5), ('naval officer', 5), ('belfast northern ireland', 5), ('sadist', 5), ('man wears a wig', 5), ('plant', 5), ('part of duology', 5), ('electronic music score', 5), ('arms dealer', 5), ('child gagged', 5), ('porn magazine', 5), ('hot air balloon', 5), ('sailor', 5), ('nuclear holocaust', 5), ('female singer', 5), ('blow job', 5), ('drive by shooting', 5), ('colonel', 5), ('inspired by true events', 5), ('tension', 5), ('martial arts action', 5), ('playing piano', 5), ('video surveillance', 5), ('liar', 5), ('rodeo', 5), ('hooded sweatshirt', 5), ('fast food restaurant', 5), ('record store', 5), ('the muppets', 5), ('chainsaw', 5), ('homeless man', 5), ('girlfriend', 5), ('dance music', 5), ('locker room', 5), ('knocked unconscious', 5), ('umbrella', 5), ('park', 5), ('radio show', 5), ('negotiation', 5), ('south america', 5), ('embarrassment', 5), ('pregnant wife', 5), ('buttock', 5), ('shipwreck', 5), ('male rape', 5), ('prison drama', 5), ('stadium', 5), ('year 1992', 5), ('bare chested male bondage', 5), ('kashmir', 5), ('leukemia', 5), ('power struggle', 5), ('saving a life', 5), ('high heels', 5), ('wrestling', 5), ('bathtub', 5), ('train ride', 5), ('twin brother', 5), ('rich man', 5), ('bureaucracy', 5), ('scene before opening credits', 5), ('multiple personality disorder', 5), ('physical abuse', 5), ('death sentence', 5), ('revolutionary', 5), ('passionate kiss', 5), ('slum', 5), ('career', 5), ('porn industry', 5), ('red panties', 5), ('drummer', 5), ('bondage', 5), ('next door neighbor', 5), (\"reference to shakespeare's romeo and juliet\", 5), ('carnival', 5), ('stepfather stepdaughter relationship', 5), ('aid', 5), ('insomnia', 5), ('male male kiss', 5), ('ejaculation', 5), ('year 1960', 5), ('sexual fantasy', 5), ('copulation', 5), ('pornography', 5), ('magazine', 5), ('gay romance', 5), ('piano playing', 5), ('unwanted pregnancy', 5), ('aspiring writer', 5), ('euthanasia', 5), ('dedicated teacher', 5), ('education', 5), ('first time sex', 5), ('swimming in underwear', 5), ('schizophrenic', 5), ('jazz club', 5), ('narcissistic personality disorder', 5), ('based on real people', 5), ('tennis', 5), ('stuttering', 5), ('opposites attract', 5), ('sex with a minor', 5), ('growing up', 5), ('chauffeur', 5), ('dead wife', 5), ('body part in title', 5), ('wedding reception', 5), ('fall', 5), ('baltimore maryland', 5), ('child molester', 5), ('microphone', 5), ('american football sport', 5), ('magical negro stereotype', 5), ('female female kiss', 5), ('italian', 5), ('whiskey', 5), ('guitarist', 5), ('attorney', 5), ('twenty something', 5), ('elderly woman', 5), ('dissociative identity disorder', 5), ('junkie', 5), ('new zealand', 5), ('golf', 5), ('atheist', 5), ('christian film', 5), ('ice cream truck', 5), ('social climber', 5), ('loss of child', 5), ('passion', 5), ('sony', 5), ('desire', 5), ('north carolina', 5), ('blind date', 5), ('skinhead', 5), ('1900s', 5), ('war veteran', 5), ('prank', 5), ('skateboarding', 5), ('love letter', 5), ('bromance', 5), ('self harm', 5), ('psychic power', 5), ('teen romance', 5), ('advertising', 5), ('costume drama', 5), ('year 1942', 5), ('prayer', 5), ('murder plot', 5), ('teenage love', 5), ('egg', 5), ('masturbation reference', 5), ('christian', 5), ('expressionism', 5), ('death row', 5), ('animal abuse', 5), ('classroom', 5), ('lesbian subtext', 5), ('double life', 5), ('lionsgate', 5), ('17 year old', 5), ('year 1959', 5), ('divorced couple', 5), ('grandfather granddaughter relationship', 5), ('religious fanatic', 5), ('nude photograph', 5), ('3d animation', 5), ('custody battle', 5), ('goat', 5), ('money problems', 5), ('social worker', 5), ('summer camp', 5), ('television producer', 5), ('chile', 5), ('insult', 5), ('affection', 5), ('sex talk', 5), ('english culture', 5), ('alien abduction', 5), ('social media', 5), ('in medias res', 5), ('election campaign', 5), ('political campaign', 5), ('translator', 5), ('playwright', 5), ('christmas party', 5), ('murder of family', 5), ('barefoot cartoon animal', 5), ('15 year old', 5), ('hypodermic needle', 5), ('rooftop', 5), ('socialite', 5), ('price of fame', 5), ('apartheid', 5), ('photography', 5), ('1880s', 5), ('underage sex', 5), ('transvestite', 5), ('racist', 5), ('pessimism', 5), ('female removes her dress', 5), ('philosophy', 5), ('illegitimate son', 5), ('communist', 5), ('evil child', 5), ('bollywood musical', 5), ('movie star', 5), ('fake documentary', 5), ('sexual repression', 5), ('manipulative woman', 5), ('waiter', 5), ('babysitter', 5), ('european literature on screen', 5), ('occult', 5), ('year 1989', 5), ('clumsiness', 5), ('experiment gone wrong', 4), ('helicopter crash', 4), ('entertainer', 4), ('investigator', 4), ('famous score', 4), ('star wars', 4), ('thug', 4), ('cliff', 4), ('hologram', 4), ('female villain', 4), ('historical drama', 4), ('swashbuckler', 4), ('villain turns good', 4), ('father daughter estrangement', 4), ('brawl', 4), ('false promise of the american dream', 4), ('bearded man', 4), ('exotic dancer', 4), ('capture', 4), ('bond girl', 4), ('poker', 4), ('alternate dimension', 4), ('amateur detective', 4), ('runaway', 4), ('accountant', 4), ('megacorporation', 4), ('lens flare', 4), ('booby trap', 4), ('mysterious villain', 4), ('black and white scene', 4), ('human hunting a human', 4), ('gunshot', 4), ('greece', 4), ('giant insect', 4), ('insect', 4), ('immortal', 4), ('evacuation', 4), ('global warming', 4), ('eating', 4), ('tornado', 4), ('sex in shower', 4), ('reverse footage', 4), ('crime lord', 4), ('spin off', 4), ('tank', 4), ('coffeeshop', 4), ('ends with biographical notes', 4), ('blackface', 4), ('bear attack', 4), ('monster versus monster', 4), (\"coup d'etat\", 4), ('day of the dead', 4), ('hijacking', 4), ('raccoon', 4), ('black cat', 4), ('emperor', 4), ('x men', 4), ('meteorite', 4), ('human prey', 4), ('most dangerous game', 4), ('clark kent character', 4), ('lois lane character', 4), ('parent', 4), ('costume', 4), ('black bra', 4), ('massachusetts', 4), ('community', 4), ('maze', 4), ('canadian', 4), ('dream girl', 4), ('british intelligence', 4), ('latex gloves', 4), ('cell phone trace', 4), ('electric torture', 4), ('alter ego', 4), ('female scientist', 4), ('alcatraz', 4), ('u.s. marine corps', 4), ('scotland yard', 4), ('venice italy', 4), ('based on manga', 4), ('live action remake of anime', 4), ('ex soldier', 4), ('year 1978', 4), ('swordsman', 4), ('12th century', 4), ('palestine', 4), ('bunker', 4), ('year 1983', 4), ('arthurian legend', 4), ('folklore', 4), ('sex offender', 4), ('u.s. mexico border', 4), ('karate', 4), ('returning character with different actor', 4), ('martial arts tournament', 4), ('childbirth', 4), ('double agent', 4), ('corrupt sheriff', 4), ('witness protection program', 4), ('school of magic', 4), ('tunnel', 4), ('lying', 4), ('gorilla', 4), ('tow truck', 4), ('shot in the back', 4), ('death of family', 4), ('animal hero', 4), ('ant', 4), ('shrinking', 4), ('king of england', 4), ('lap dance', 4), ('prom', 4), ('orc', 4), ('part computer animation', 4), ('actor reprises previous role', 4), ('jail cell', 4), ('year 1963', 4), ('biker gang', 4), ('female martial artist', 4), ('tucson arizona', 4), ('murder of wife', 4), ('special forces', 4), ('bartender', 4), ('starvation', 4), ('comet', 4), ('murder of a priest', 4), ('slaughterhouse', 4), ('giant spider', 4), ('rio de janeiro brazil', 4), ('murderer', 4), ('killing spree', 4), ('cat and mouse', 4), ('action figure', 4), ('prison riot', 4), ('war hero', 4), ('treasure hunt', 4), ('treasure map', 4), ('house arrest', 4), ('chinatown', 4), ('pink panties', 4), ('survivalist', 4), ('drug mule', 4), ('fictional drug', 4), ('mind reading', 4), ('kitchen', 4), ('babysitting', 4), ('name in title', 4), ('interracial love', 4), ('cold war era', 4), ('power outage', 4), ('navajo indian', 4), ('shark attack', 4), ('skyscraper', 4), ('statue of liberty new york city', 4), ('police procedural', 4), ('lifeboat', 4), ('invasion', 4), ('bisexual woman', 4), ('macguffin', 4), ('outnumbered', 4), ('flesh eating zombie', 4), ('video store', 4), ('quadriplegic', 4), ('antihero', 4), ('shoulder', 4), ('intimidation', 4), ('scissors', 4), ('loss of friend', 4), ('puzzle', 4), ('oppression', 4), ('thong panties', 4), ('bangkok thailand', 4), ('apache indian', 4), ('genetics', 4), ('animal cruelty', 4), ('chimpanzee', 4), ('sexual joke', 4), ('computer cracker', 4), ('escape attempt', 4), ('death of loved one', 4), ('missionary', 4), ('censorship', 4), ('1800s', 4), ('john f. kennedy character', 4), ('richard m. nixon character', 4), ('ancient rome', 4), ('britain', 4), ('woman punches a man', 4), ('atomic bomb', 4), ('based on fairy tale', 4), ('dark fantasy', 4), ('young widow', 4), ('government corruption', 4), ('nuclear attack', 4), ('plague', 4), ('urban fantasy', 4), ('boy horse relationship', 4), ('good man', 4), ('activist', 4), ('vandalism', 4), ('talking robot', 4), ('troubled teen', 4), ('ex con', 4), ('dr. john watson character', 4), ('zombie survival', 4), ('gagged', 4), ('darkness', 4), ('twin brothers', 4), ('crime spree', 4), ('killer dog', 4), ('israel', 4), ('two in a shower', 4), ('improvised weapon', 4), ('popularity', 4), ('muscular', 4), ('man with no name', 4), ('assassination plot', 4), ('man carries a woman', 4), ('torture chamber', 4), ('phone call from beyond the grave', 4), ('based on cartoon', 4), ('race', 4), ('punk rocker', 4), ('school bus', 4), ('weapons fire', 4), ('backwards time travel', 4), ('blackjack', 4), ('train movie', 4), ('astronomical object in title', 4), ('rebel', 4), ('reference to allah', 4), ('bagman', 4), ('islamic terrorism', 4), ('tragic hero', 4), ('oil', 4), ('tied to chair', 4), ('squad', 4), ('two man army', 4), ('female killer', 4), ('first of series', 4), ('christmas tree', 4), ('ocean liner', 4), ('rocket', 4), ('satellite', 4), ('crash', 4), ('john wilkes booth character', 4), ('identity theft', 4), ('prison cell', 4), ('queen elizabeth ii character', 4), ('quirky comedy', 4), ('governor', 4), ('apprentice', 4), ('mutiny', 4), ('nuclear weapons', 4), ('catchy song', 4), ('tequila', 4), ('british actor playing foreigner', 4), ('nazi soldier', 4), ('sadistic horror', 4), ('equestrian', 4), ('underage smoking', 4), ('u.s. marine', 4), ('pizza delivery', 4), ('prehistory', 4), ('alligator', 4), ('orchestra', 4), ('1980s film', 4), ('loss of husband', 4), ('inner city', 4), ('siege', 4), ('self justice', 4), ('underworld', 4), ('informant', 4), ('japanese army', 4), ('japanese soldier', 4), ('close up of lips', 4), ('manager', 4), ('security camera', 4), ('security guard', 4), ('king arthur character', 4), ('flood', 4), ('norway', 4), ('activism', 4), ('dictatorship', 4), ('ford motor vehicle', 4), ('prisoner of war camp', 4), ('punishment', 4), ('heavy rain', 4), ('joker character', 4), ('september 11 2001', 4), ('american in the uk', 4), ('brief', 4), ('world trade center manhattan new york city', 4), ('lightning', 4), ('alcoholic drink', 4), ('oval office', 4), ('driver', 4), ('strong female protagonist', 4), ('year 1971', 4), ('owl', 4), ('hypnotism', 4), ('suntan pantyhose', 4), ('location in title', 4), ('rival', 4), ('interracial marriage', 4), ('polar bear', 4), ('double barreled shotgun', 4), ('dead body with eyes open', 4), ('dead woman', 4), ('miniskirt', 4), ('insurance company', 4), ('police interrogation', 4), ('envelope of money', 4), ('robber', 4), ('research', 4), ('rope', 4), ('ceo', 4), ('violin', 4), ('money laundering', 4), ('injury', 4), ('shower room', 4), ('pedophile', 4), ('topless', 4), ('christian fanatic', 4), ('napoleon bonaparte character', 4), ('french resistance', 4), ('cameo appearance', 4), ('sniper rifle', 4), ('barefoot boy', 4), ('kermit the frog character', 4), ('riding a bicycle', 4), ('ticket', 4), ('mechanic', 4), ('miscarriage of justice', 4), ('irish american', 4), ('world war two veteran', 4), ('bar shootout', 4), ('sword and sandal', 4), ('nitroglycerin', 4), ('son', 4), ('district attorney', 4), ('interracial sex', 4), ('alliance atlantis', 4), ('aspiring actor', 4), ('riverboat', 4), ('famine', 4), ('remake of japanese film', 4), ('no music during end credits', 4), ('year 1991', 4), ('out of body experience', 4), ('military training', 4), (\"shakespeare's hamlet\", 4), ('mature animation', 4), ('prospector', 4), ('strong female', 4), ('teacher as protagonist', 4), ('sweden', 4), ('wrestler', 4), ('look alike', 4), ('diplomat', 4), ('editor', 4), ('windmill', 4), ('year 1939', 4), ('uniform', 4), ('west germany', 4), ('asylum', 4), ('bullet', 4), ('epilogue', 4), ('man wears a tank top', 4), ('tank top', 4), ('goa india', 4), ('department store', 4), ('sikh', 4), ('parallel world', 4), ('stabbed in the stomach', 4), ('new identity', 4), ('star', 4), ('cricket', 4), ('snuff film', 4), ('murder spree', 4), ('guard', 4), ('waterfall', 4), ('embassy', 4), ('sex tape', 4), ('sleep deprivation', 4), ('garden', 4), ('freedom fighter', 4), ('doll', 4), ('escort', 4), ('religious cult', 4), ('intelligence', 4), ('coming of age drama', 4), ('timeframe 2020s', 4), ('fashion designer', 4), ('homoerotic', 4), ('baseball movie', 4), ('mother in law son in law relationship', 4), ('double gun holster', 4), ('film starts with sex', 4), ('nazi occupation', 4), ('support group', 4), ('imaginary friend', 4), ('ballerina', 4), ('social injustice', 4), ('first gay sexual experience', 4), ('childhood friend', 4), ('labyrinth', 4), ('caught masturbating', 4), ('handheld camera', 4), ('dynamite', 4), ('dance scene', 4), ('nursing home', 4), ('male nurse', 4), ('hbo max', 4), ('timeframe 1890s', 4), ('child molestation', 4), ('able to see the dead', 4), ('copenhagen denmark', 4), ('lgbtq', 4), ('teenage sexuality', 4), ('mental health', 4), ('british royal family', 4), ('art gallery', 4), ('responsibility', 4), ('sex on floor', 4), ('aspiring actress', 4), ('female psychopath', 4), ('football player', 4), ('soul music', 4), ('bisexuality', 4), ('alone', 4), ('media frenzy', 4), ('sexual predator', 4), ('hearing voices', 4), ('pregnant teenager', 4), ('coffee', 4), ('repeated scene from a different perspective', 4), ('memory loss', 4), ('gypsy', 4), ('tennis player', 4), ('concentration camp', 4), ('life', 4), ('singer songwriter', 4), ('catholic school', 4), ('balloon', 4), ('talking dog', 4), ('black man', 4), ('paralysis', 4), ('marital infidelity', 4), ('jazz musician', 4), ('music teacher', 4), ('soul', 4), ('domestic abuse', 4), ('hiding', 4), ('rv', 4), ('mysterious disappearance', 4), ('disposing of a dead body', 4), ('locked in a room', 4), ('visit', 4), ('paparazzo', 4), ('costume drama history', 4), ('iowa', 4), ('high society', 4), ('teen suicide', 4), ('adolescence', 4), ('investigative journalism', 4), ('champion', 4), ('hoodie', 4), ('comedy of errors', 4), ('hustler', 4), ('nylon leg', 4), ('racial tension', 4), ('american in paris', 4), ('baseball game', 4), ('episodic structure', 4), ('aristocracy', 4), ('determination', 4), ('u.s. cavalry', 4), ('flight attendant', 4), ('british politics', 4), ('winston churchill character', 4), ('bail', 4), ('british military', 4), ('fatal attraction', 4), ('novel', 4), ('mental patient', 4), ('jesus christ character', 4), ('long title', 4), ('glasgow scotland', 4), ('patient', 4), ('spa', 4), ('body switching', 4), ('based on memoir', 4), ('gigolo', 4), ('broken leg', 4), ('unplanned pregnancy', 4), ('single woman', 4), ('private school', 4), ('utopia', 4), ('loveless marriage', 4), ('acting', 4), ('eccentric family', 4), ('heart attack', 4), ('happy ending', 4), ('female worker', 4), ('young woman', 4), ('physicist', 4), ('schoolgirl', 4), ('gang violence', 4), ('disturbing', 4), ('golf course', 4), ('alabama', 4), ('bloody violence', 4), ('florist', 4), ('first lady', 4), ('man slaps a woman', 4), ('clairvoyant', 4), ('live action and animation', 4), ('hockey movie', 4), ('binoculars', 4), ('trust', 4), ('country name in title', 4), ('pennsylvania', 4), ('wrongful arrest', 4), ('lesbian romance', 4), ('older woman younger woman relationship', 4), ('disco', 4), ('friendship between girls', 4), ('written by star', 4), ('truth', 4), ('u.s. politician', 4), ('director', 4), ('grandmother grandson relationship', 4), ('indiana', 4), ('female in a shower', 4), ('online dating', 4), ('foster parent', 4), ('theater', 4), ('sonora mexico', 4), ('heart transplant', 4), ('insurance', 4), ('landlord', 4), ('backstage', 4), ('central park manhattan new york city', 4), ('self immolation', 4), ('community service', 4), ('recluse', 4), ('film history', 4), ('psychology', 4), ('hindu', 4), ('eavesdropping', 4), ('paranormal phenomenon', 4), ('tape recorder', 4), ('caper', 4), ('rome italy', 4), ('giallo esque', 4), ('sadistic psychopath', 4), ('orchestral music score', 4), ('medication', 4), ('sleepwalking', 4), ('family feud', 4), ('male prostitute', 4), ('teenage crush', 4), ('electricity', 4), ('gardener', 4), ('flirting', 4), ('loud sex', 4), ('swamp', 4), ('adolescent', 4), ('hate crime', 4), ('hometown', 4), ('law student', 4), (\"girls' school\", 4), ('art class', 4), ('girl wears eyeglasses', 4), ('cockroach', 4), ('hand drawn animation', 4), ('traditional animation', 4), ('bucket list', 4), ('media manipulation', 4), ('transgender woman', 4), ('chore', 4), ('interlinked stories', 4), ('heir', 4), ('time travel romance', 4), ('contemplating suicide', 4), ('forgery', 4), ('football movie', 4), ('year 1962', 4), ('alice in wonderland', 4), ('inmate', 4), ('rancher', 4), ('teen sport', 4), ('bad guys win', 4), ('television studio', 4), ('devil', 4), ('hand job', 4), ('harassment', 4), ('change of heart', 4), ('spirit', 4), ('bare chested teenage boy', 4), ('altering history', 4), (\"based on children's book\", 4), ('year 1995', 4), ('heavy metal', 4), ('amphetamine', 4), ('following someone', 4), ('olympics', 4), ('letter writing', 4), ('nazi hunter', 4), ('animal protagonist', 4), ('barn', 4), ('milking a cow', 4), ('marriage problems', 4), ('harlem manhattan new york city', 4), ('music score composed by director', 4), ('zodiac sign', 4), ('nature', 4), ('baseball sport', 4), ('narration', 4), ('crowdfunded', 4), ('canuxploitation', 4), ('interracial couple', 4), ('unfaithful husband', 4), ('little boy', 4), ('comedic sex scene', 4), ('hunger', 4), ('adult child lives at home', 4), ('convenience store', 4), ('embezzlement', 4), ('high school graduation', 4), ('reference to adolf hitler', 4), ('rags to riches', 4), ('hairy chested male', 4), ('sorority', 4), ('troubled marriage', 4), ('death character', 4), ('drunk', 4), ('based on supposedly true story', 4), ('ventriloquist dummy', 4), ('tearjerker', 4), ('corporation', 4), ('angry mob', 4), ('apache territory', 4), ('deaf mute', 4), ('man wears a tuxedo', 4), ('vodka', 4), ('text message', 4), ('hot tub', 4), ('moving', 4), ('reference to pubic hair', 4), ('dolphin', 4), ('anarchism', 4), ('anarchist', 4), ('propaganda', 4), ('suspect', 4), ('reference to jesus christ', 4), ('american in europe', 4), ('newspaper editor', 4), ('expatriate', 4), ('drunken sex', 4), ('queens new york city', 4), ('portmanteau film', 4), ('flashing breasts', 4), ('striptease', 4), ('heartbreak', 4), ('actual animal killed', 4), ('male underwear', 4), ('ogre', 4), ('fondling', 4), ('iran', 4), ('public humiliation', 4), ('fashion show', 4), ('child murders a child', 4), ('guilty conscience', 4), ('advice', 4), ('political comedy', 4), ('spoiled brat', 4), ('thong', 4), ('erect penis', 4), ('title sung by character', 4), ('lucifer morningstar character', 4), ('disney animated sequel', 4), ('spaghetti', 4), ('puppet', 4), ('north pole', 4), ('the beatles', 4), ('teddy bear', 4), ('evil dead', 4), ('metamorphosis', 4), ('slasher killer', 4), ('mysterious killer', 4), ('minion', 4)]\n"
     ]
    }
   ],
   "source": [
    "# Keyword Observation\n",
    "def normalize_keywords(keywords):\n",
    "    keywords = [kw.lower().strip() for kw in keywords if isinstance(kw, str)]\n",
    "    return sorted(set(keywords))\n",
    "\n",
    "high_quality_df['plot_keyword'] = high_quality_df['plot_keyword'].apply(normalize_keywords)\n",
    "\n",
    "keyword_counter = Counter(itertools.chain.from_iterable(high_quality_df['plot_keyword']))\n",
    "print(keyword_counter.most_common())"
   ]
  },
  {
   "cell_type": "markdown",
   "id": "e0213345-7491-47fd-97de-8bfd27de5497",
   "metadata": {},
   "source": [
    "### Filtering Out Low Frequency Keywords"
   ]
  },
  {
   "cell_type": "code",
   "execution_count": 16,
   "id": "fc67e6a7-ec14-4302-a53e-063b61c06de7",
   "metadata": {
    "scrolled": true
   },
   "outputs": [
    {
     "data": {
      "text/plain": [
       "15294"
      ]
     },
     "execution_count": 16,
     "metadata": {},
     "output_type": "execute_result"
    }
   ],
   "source": [
    "threshold = 3\n",
    "low_freq_keywords = {kw for kw, count in keyword_counter.items() if count <= threshold}\n",
    "len(low_freq_keywords)"
   ]
  },
  {
   "cell_type": "code",
   "execution_count": 17,
   "id": "e8341d3b-60be-40e1-97b1-3beba0e16cd4",
   "metadata": {},
   "outputs": [],
   "source": [
    "def remove_low_freq_keywords(keywords):\n",
    "    return [kw for kw in keywords if kw not in low_freq_keywords]\n",
    "\n",
    "high_quality_df['plot_keyword'] = high_quality_df['plot_keyword'].apply(remove_low_freq_keywords)"
   ]
  },
  {
   "cell_type": "markdown",
   "id": "0b327130-ee05-4c56-b51d-f0eb84777e8e",
   "metadata": {},
   "source": [
    "### Lemmatize keywords"
   ]
  },
  {
   "cell_type": "code",
   "execution_count": 18,
   "id": "0a0f7a93-be56-43be-b9e2-667d22f1bd4b",
   "metadata": {},
   "outputs": [
    {
     "name": "stderr",
     "output_type": "stream",
     "text": [
      "[nltk_data] Downloading package wordnet to\n",
      "[nltk_data]     C:\\Users\\ASUS\\AppData\\Roaming\\nltk_data...\n",
      "[nltk_data]   Package wordnet is already up-to-date!\n"
     ]
    }
   ],
   "source": [
    "from nltk.stem import WordNetLemmatizer\n",
    "import nltk\n",
    "nltk.download('wordnet')\n",
    "lemm = WordNetLemmatizer()\n",
    "\n",
    "def lemmatize_keywords(keywords):\n",
    "    return [lemm.lemmatize(kw) for kw in keywords]\n",
    "\n",
    "high_quality_df['plot_keyword'] = high_quality_df['plot_keyword'].apply(lemmatize_keywords)"
   ]
  },
  {
   "cell_type": "code",
   "execution_count": 19,
   "id": "3235ed6a-e204-41ea-9f15-e2550c1cb487",
   "metadata": {},
   "outputs": [
    {
     "data": {
      "text/html": [
       "<div>\n",
       "<style scoped>\n",
       "    .dataframe tbody tr th:only-of-type {\n",
       "        vertical-align: middle;\n",
       "    }\n",
       "\n",
       "    .dataframe tbody tr th {\n",
       "        vertical-align: top;\n",
       "    }\n",
       "\n",
       "    .dataframe thead th {\n",
       "        text-align: right;\n",
       "    }\n",
       "</style>\n",
       "<table border=\"1\" class=\"dataframe\">\n",
       "  <thead>\n",
       "    <tr style=\"text-align: right;\">\n",
       "      <th></th>\n",
       "      <th>count</th>\n",
       "      <th>mean</th>\n",
       "      <th>std</th>\n",
       "      <th>min</th>\n",
       "      <th>25%</th>\n",
       "      <th>50%</th>\n",
       "      <th>75%</th>\n",
       "      <th>max</th>\n",
       "    </tr>\n",
       "  </thead>\n",
       "  <tbody>\n",
       "    <tr>\n",
       "      <th>rating</th>\n",
       "      <td>5849.0</td>\n",
       "      <td>6.935886</td>\n",
       "      <td>0.608144</td>\n",
       "      <td>6.0</td>\n",
       "      <td>6.4</td>\n",
       "      <td>6.9</td>\n",
       "      <td>7.4</td>\n",
       "      <td>9.0</td>\n",
       "    </tr>\n",
       "    <tr>\n",
       "      <th>votes</th>\n",
       "      <td>5849.0</td>\n",
       "      <td>105878.269790</td>\n",
       "      <td>154516.265224</td>\n",
       "      <td>10000.0</td>\n",
       "      <td>20000.0</td>\n",
       "      <td>45000.0</td>\n",
       "      <td>121000.0</td>\n",
       "      <td>2000000.0</td>\n",
       "    </tr>\n",
       "    <tr>\n",
       "      <th>Action</th>\n",
       "      <td>5849.0</td>\n",
       "      <td>0.242435</td>\n",
       "      <td>0.428592</td>\n",
       "      <td>0.0</td>\n",
       "      <td>0.0</td>\n",
       "      <td>0.0</td>\n",
       "      <td>0.0</td>\n",
       "      <td>1.0</td>\n",
       "    </tr>\n",
       "    <tr>\n",
       "      <th>Adventure</th>\n",
       "      <td>5849.0</td>\n",
       "      <td>0.169431</td>\n",
       "      <td>0.375164</td>\n",
       "      <td>0.0</td>\n",
       "      <td>0.0</td>\n",
       "      <td>0.0</td>\n",
       "      <td>0.0</td>\n",
       "      <td>1.0</td>\n",
       "    </tr>\n",
       "    <tr>\n",
       "      <th>Animation</th>\n",
       "      <td>5849.0</td>\n",
       "      <td>0.043255</td>\n",
       "      <td>0.203449</td>\n",
       "      <td>0.0</td>\n",
       "      <td>0.0</td>\n",
       "      <td>0.0</td>\n",
       "      <td>0.0</td>\n",
       "      <td>1.0</td>\n",
       "    </tr>\n",
       "    <tr>\n",
       "      <th>Biography</th>\n",
       "      <td>5849.0</td>\n",
       "      <td>0.088904</td>\n",
       "      <td>0.284630</td>\n",
       "      <td>0.0</td>\n",
       "      <td>0.0</td>\n",
       "      <td>0.0</td>\n",
       "      <td>0.0</td>\n",
       "      <td>1.0</td>\n",
       "    </tr>\n",
       "    <tr>\n",
       "      <th>Comedy</th>\n",
       "      <td>5849.0</td>\n",
       "      <td>0.352197</td>\n",
       "      <td>0.477696</td>\n",
       "      <td>0.0</td>\n",
       "      <td>0.0</td>\n",
       "      <td>0.0</td>\n",
       "      <td>1.0</td>\n",
       "      <td>1.0</td>\n",
       "    </tr>\n",
       "    <tr>\n",
       "      <th>Crime</th>\n",
       "      <td>5849.0</td>\n",
       "      <td>0.227389</td>\n",
       "      <td>0.419182</td>\n",
       "      <td>0.0</td>\n",
       "      <td>0.0</td>\n",
       "      <td>0.0</td>\n",
       "      <td>0.0</td>\n",
       "      <td>1.0</td>\n",
       "    </tr>\n",
       "    <tr>\n",
       "      <th>Drama</th>\n",
       "      <td>5849.0</td>\n",
       "      <td>0.626261</td>\n",
       "      <td>0.483837</td>\n",
       "      <td>0.0</td>\n",
       "      <td>0.0</td>\n",
       "      <td>1.0</td>\n",
       "      <td>1.0</td>\n",
       "      <td>1.0</td>\n",
       "    </tr>\n",
       "    <tr>\n",
       "      <th>Family</th>\n",
       "      <td>5849.0</td>\n",
       "      <td>0.038126</td>\n",
       "      <td>0.191517</td>\n",
       "      <td>0.0</td>\n",
       "      <td>0.0</td>\n",
       "      <td>0.0</td>\n",
       "      <td>0.0</td>\n",
       "      <td>1.0</td>\n",
       "    </tr>\n",
       "    <tr>\n",
       "      <th>Fantasy</th>\n",
       "      <td>5849.0</td>\n",
       "      <td>0.064968</td>\n",
       "      <td>0.246491</td>\n",
       "      <td>0.0</td>\n",
       "      <td>0.0</td>\n",
       "      <td>0.0</td>\n",
       "      <td>0.0</td>\n",
       "      <td>1.0</td>\n",
       "    </tr>\n",
       "    <tr>\n",
       "      <th>Film-Noir</th>\n",
       "      <td>5849.0</td>\n",
       "      <td>0.007694</td>\n",
       "      <td>0.087383</td>\n",
       "      <td>0.0</td>\n",
       "      <td>0.0</td>\n",
       "      <td>0.0</td>\n",
       "      <td>0.0</td>\n",
       "      <td>1.0</td>\n",
       "    </tr>\n",
       "    <tr>\n",
       "      <th>History</th>\n",
       "      <td>5849.0</td>\n",
       "      <td>0.040178</td>\n",
       "      <td>0.196393</td>\n",
       "      <td>0.0</td>\n",
       "      <td>0.0</td>\n",
       "      <td>0.0</td>\n",
       "      <td>0.0</td>\n",
       "      <td>1.0</td>\n",
       "    </tr>\n",
       "    <tr>\n",
       "      <th>Horror</th>\n",
       "      <td>5849.0</td>\n",
       "      <td>0.088220</td>\n",
       "      <td>0.283639</td>\n",
       "      <td>0.0</td>\n",
       "      <td>0.0</td>\n",
       "      <td>0.0</td>\n",
       "      <td>0.0</td>\n",
       "      <td>1.0</td>\n",
       "    </tr>\n",
       "    <tr>\n",
       "      <th>Music</th>\n",
       "      <td>5849.0</td>\n",
       "      <td>0.030774</td>\n",
       "      <td>0.172721</td>\n",
       "      <td>0.0</td>\n",
       "      <td>0.0</td>\n",
       "      <td>0.0</td>\n",
       "      <td>0.0</td>\n",
       "      <td>1.0</td>\n",
       "    </tr>\n",
       "    <tr>\n",
       "      <th>Musical</th>\n",
       "      <td>5849.0</td>\n",
       "      <td>0.015045</td>\n",
       "      <td>0.121743</td>\n",
       "      <td>0.0</td>\n",
       "      <td>0.0</td>\n",
       "      <td>0.0</td>\n",
       "      <td>0.0</td>\n",
       "      <td>1.0</td>\n",
       "    </tr>\n",
       "    <tr>\n",
       "      <th>Mystery</th>\n",
       "      <td>5849.0</td>\n",
       "      <td>0.098136</td>\n",
       "      <td>0.297524</td>\n",
       "      <td>0.0</td>\n",
       "      <td>0.0</td>\n",
       "      <td>0.0</td>\n",
       "      <td>0.0</td>\n",
       "      <td>1.0</td>\n",
       "    </tr>\n",
       "    <tr>\n",
       "      <th>Romance</th>\n",
       "      <td>5849.0</td>\n",
       "      <td>0.174389</td>\n",
       "      <td>0.379476</td>\n",
       "      <td>0.0</td>\n",
       "      <td>0.0</td>\n",
       "      <td>0.0</td>\n",
       "      <td>0.0</td>\n",
       "      <td>1.0</td>\n",
       "    </tr>\n",
       "    <tr>\n",
       "      <th>Sci-Fi</th>\n",
       "      <td>5849.0</td>\n",
       "      <td>0.067704</td>\n",
       "      <td>0.251259</td>\n",
       "      <td>0.0</td>\n",
       "      <td>0.0</td>\n",
       "      <td>0.0</td>\n",
       "      <td>0.0</td>\n",
       "      <td>1.0</td>\n",
       "    </tr>\n",
       "    <tr>\n",
       "      <th>Sport</th>\n",
       "      <td>5849.0</td>\n",
       "      <td>0.021884</td>\n",
       "      <td>0.146318</td>\n",
       "      <td>0.0</td>\n",
       "      <td>0.0</td>\n",
       "      <td>0.0</td>\n",
       "      <td>0.0</td>\n",
       "      <td>1.0</td>\n",
       "    </tr>\n",
       "    <tr>\n",
       "      <th>Thriller</th>\n",
       "      <td>5849.0</td>\n",
       "      <td>0.163105</td>\n",
       "      <td>0.369493</td>\n",
       "      <td>0.0</td>\n",
       "      <td>0.0</td>\n",
       "      <td>0.0</td>\n",
       "      <td>0.0</td>\n",
       "      <td>1.0</td>\n",
       "    </tr>\n",
       "    <tr>\n",
       "      <th>War</th>\n",
       "      <td>5849.0</td>\n",
       "      <td>0.024107</td>\n",
       "      <td>0.153394</td>\n",
       "      <td>0.0</td>\n",
       "      <td>0.0</td>\n",
       "      <td>0.0</td>\n",
       "      <td>0.0</td>\n",
       "      <td>1.0</td>\n",
       "    </tr>\n",
       "    <tr>\n",
       "      <th>Western</th>\n",
       "      <td>5849.0</td>\n",
       "      <td>0.015558</td>\n",
       "      <td>0.123769</td>\n",
       "      <td>0.0</td>\n",
       "      <td>0.0</td>\n",
       "      <td>0.0</td>\n",
       "      <td>0.0</td>\n",
       "      <td>1.0</td>\n",
       "    </tr>\n",
       "  </tbody>\n",
       "</table>\n",
       "</div>"
      ],
      "text/plain": [
       "            count           mean            std      min      25%      50%  \\\n",
       "rating     5849.0       6.935886       0.608144      6.0      6.4      6.9   \n",
       "votes      5849.0  105878.269790  154516.265224  10000.0  20000.0  45000.0   \n",
       "Action     5849.0       0.242435       0.428592      0.0      0.0      0.0   \n",
       "Adventure  5849.0       0.169431       0.375164      0.0      0.0      0.0   \n",
       "Animation  5849.0       0.043255       0.203449      0.0      0.0      0.0   \n",
       "Biography  5849.0       0.088904       0.284630      0.0      0.0      0.0   \n",
       "Comedy     5849.0       0.352197       0.477696      0.0      0.0      0.0   \n",
       "Crime      5849.0       0.227389       0.419182      0.0      0.0      0.0   \n",
       "Drama      5849.0       0.626261       0.483837      0.0      0.0      1.0   \n",
       "Family     5849.0       0.038126       0.191517      0.0      0.0      0.0   \n",
       "Fantasy    5849.0       0.064968       0.246491      0.0      0.0      0.0   \n",
       "Film-Noir  5849.0       0.007694       0.087383      0.0      0.0      0.0   \n",
       "History    5849.0       0.040178       0.196393      0.0      0.0      0.0   \n",
       "Horror     5849.0       0.088220       0.283639      0.0      0.0      0.0   \n",
       "Music      5849.0       0.030774       0.172721      0.0      0.0      0.0   \n",
       "Musical    5849.0       0.015045       0.121743      0.0      0.0      0.0   \n",
       "Mystery    5849.0       0.098136       0.297524      0.0      0.0      0.0   \n",
       "Romance    5849.0       0.174389       0.379476      0.0      0.0      0.0   \n",
       "Sci-Fi     5849.0       0.067704       0.251259      0.0      0.0      0.0   \n",
       "Sport      5849.0       0.021884       0.146318      0.0      0.0      0.0   \n",
       "Thriller   5849.0       0.163105       0.369493      0.0      0.0      0.0   \n",
       "War        5849.0       0.024107       0.153394      0.0      0.0      0.0   \n",
       "Western    5849.0       0.015558       0.123769      0.0      0.0      0.0   \n",
       "\n",
       "                75%        max  \n",
       "rating          7.4        9.0  \n",
       "votes      121000.0  2000000.0  \n",
       "Action          0.0        1.0  \n",
       "Adventure       0.0        1.0  \n",
       "Animation       0.0        1.0  \n",
       "Biography       0.0        1.0  \n",
       "Comedy          1.0        1.0  \n",
       "Crime           0.0        1.0  \n",
       "Drama           1.0        1.0  \n",
       "Family          0.0        1.0  \n",
       "Fantasy         0.0        1.0  \n",
       "Film-Noir       0.0        1.0  \n",
       "History         0.0        1.0  \n",
       "Horror          0.0        1.0  \n",
       "Music           0.0        1.0  \n",
       "Musical         0.0        1.0  \n",
       "Mystery         0.0        1.0  \n",
       "Romance         0.0        1.0  \n",
       "Sci-Fi          0.0        1.0  \n",
       "Sport           0.0        1.0  \n",
       "Thriller        0.0        1.0  \n",
       "War             0.0        1.0  \n",
       "Western         0.0        1.0  "
      ]
     },
     "execution_count": 19,
     "metadata": {},
     "output_type": "execute_result"
    }
   ],
   "source": [
    "high_quality_df.describe().T"
   ]
  },
  {
   "cell_type": "code",
   "execution_count": 20,
   "id": "decfdd33-58db-45b8-b537-960f5e0dc944",
   "metadata": {},
   "outputs": [
    {
     "name": "stdout",
     "output_type": "stream",
     "text": [
      "<class 'pandas.core.frame.DataFrame'>\n",
      "RangeIndex: 5849 entries, 0 to 5848\n",
      "Data columns (total 30 columns):\n",
      " #   Column        Non-Null Count  Dtype  \n",
      "---  ------        --------------  -----  \n",
      " 0   movie_title   5849 non-null   object \n",
      " 1   rating        5849 non-null   float64\n",
      " 2   user_rating   5849 non-null   object \n",
      " 3   genres        5849 non-null   object \n",
      " 4   plot_keyword  5849 non-null   object \n",
      " 5   director      5849 non-null   object \n",
      " 6   top_5_casts   5849 non-null   object \n",
      " 7   writer        5849 non-null   object \n",
      " 8   votes         5849 non-null   int64  \n",
      " 9   Action        5849 non-null   int32  \n",
      " 10  Adventure     5849 non-null   int32  \n",
      " 11  Animation     5849 non-null   int32  \n",
      " 12  Biography     5849 non-null   int32  \n",
      " 13  Comedy        5849 non-null   int32  \n",
      " 14  Crime         5849 non-null   int32  \n",
      " 15  Drama         5849 non-null   int32  \n",
      " 16  Family        5849 non-null   int32  \n",
      " 17  Fantasy       5849 non-null   int32  \n",
      " 18  Film-Noir     5849 non-null   int32  \n",
      " 19  History       5849 non-null   int32  \n",
      " 20  Horror        5849 non-null   int32  \n",
      " 21  Music         5849 non-null   int32  \n",
      " 22  Musical       5849 non-null   int32  \n",
      " 23  Mystery       5849 non-null   int32  \n",
      " 24  Romance       5849 non-null   int32  \n",
      " 25  Sci-Fi        5849 non-null   int32  \n",
      " 26  Sport         5849 non-null   int32  \n",
      " 27  Thriller      5849 non-null   int32  \n",
      " 28  War           5849 non-null   int32  \n",
      " 29  Western       5849 non-null   int32  \n",
      "dtypes: float64(1), int32(21), int64(1), object(7)\n",
      "memory usage: 891.2+ KB\n"
     ]
    }
   ],
   "source": [
    "high_quality_df.info()"
   ]
  },
  {
   "cell_type": "code",
   "execution_count": 21,
   "id": "5c479f25-371b-4de2-924f-2a2bf2f06327",
   "metadata": {},
   "outputs": [
    {
     "data": {
      "text/plain": [
       "movie_title     0\n",
       "rating          0\n",
       "user_rating     0\n",
       "genres          0\n",
       "plot_keyword    0\n",
       "director        0\n",
       "top_5_casts     0\n",
       "writer          0\n",
       "votes           0\n",
       "Action          0\n",
       "Adventure       0\n",
       "Animation       0\n",
       "Biography       0\n",
       "Comedy          0\n",
       "Crime           0\n",
       "Drama           0\n",
       "Family          0\n",
       "Fantasy         0\n",
       "Film-Noir       0\n",
       "History         0\n",
       "Horror          0\n",
       "Music           0\n",
       "Musical         0\n",
       "Mystery         0\n",
       "Romance         0\n",
       "Sci-Fi          0\n",
       "Sport           0\n",
       "Thriller        0\n",
       "War             0\n",
       "Western         0\n",
       "dtype: int64"
      ]
     },
     "execution_count": 21,
     "metadata": {},
     "output_type": "execute_result"
    }
   ],
   "source": [
    "high_quality_df.isnull().sum()"
   ]
  },
  {
   "cell_type": "code",
   "execution_count": 22,
   "id": "51d8b884-e308-43f6-819f-c75f6b019e2e",
   "metadata": {},
   "outputs": [],
   "source": [
    "high_quality_df.to_csv('cleaned_high_quality_dataset.csv', index=False)"
   ]
  }
 ],
 "metadata": {
  "kernelspec": {
   "display_name": "Python 3 (ipykernel)",
   "language": "python",
   "name": "python3"
  },
  "language_info": {
   "codemirror_mode": {
    "name": "ipython",
    "version": 3
   },
   "file_extension": ".py",
   "mimetype": "text/x-python",
   "name": "python",
   "nbconvert_exporter": "python",
   "pygments_lexer": "ipython3",
   "version": "3.12.7"
  }
 },
 "nbformat": 4,
 "nbformat_minor": 5
}
