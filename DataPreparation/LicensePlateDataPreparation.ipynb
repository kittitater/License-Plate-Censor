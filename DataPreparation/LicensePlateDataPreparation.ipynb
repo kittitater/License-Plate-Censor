{
 "cells": [
  {
   "cell_type": "code",
   "execution_count": 2,
   "id": "09ebc6ef-2297-4ca0-9db3-65b20ef9b307",
   "metadata": {},
   "outputs": [],
   "source": [
    "import cv2\n",
    "import numpy as np\n",
    "import os\n",
    "import random\n",
    "from tqdm import tqdm"
   ]
  },
  {
   "cell_type": "code",
   "execution_count": 3,
   "id": "dd423ae8-4d01-47cc-9d81-113f26d20aa0",
   "metadata": {},
   "outputs": [],
   "source": [
    "# Paths\n",
    "plate_folder = r'PlateImage'\n",
    "background_train_folder = r'BackgroundImage\\train'\n",
    "background_testval_folder = r'BackgroundImage\\testval'\n",
    "\n",
    "output_base = r'synthetic_data'\n",
    "train_output_folder = os.path.join(output_base, 'train', 'images')\n",
    "train_label_folder = os.path.join(output_base, 'train', 'labels')\n",
    "test_output_folder = os.path.join(output_base, 'testval', 'images')\n",
    "test_label_folder = os.path.join(output_base, 'testval', 'labels')"
   ]
  },
  {
   "cell_type": "code",
   "execution_count": 4,
   "id": "7eefd3b2-a135-4b70-a51e-93b23c4fa3e2",
   "metadata": {},
   "outputs": [],
   "source": [
    "# Create directories\n",
    "for folder in [train_output_folder, train_label_folder, test_output_folder, test_label_folder]:\n",
    "    os.makedirs(folder, exist_ok=True)"
   ]
  },
  {
   "cell_type": "code",
   "execution_count": 8,
   "id": "bd487f34-9f86-449c-bf80-ba78941028c6",
   "metadata": {},
   "outputs": [],
   "source": [
    "def overlay_plate(background, plate):\n",
    "    h_bg, w_bg = background.shape[:2]\n",
    "    \n",
    "    # Dynamically adjust max scale to fit plate within background\n",
    "    max_scale_x = w_bg / plate.shape[1]\n",
    "    max_scale_y = h_bg / plate.shape[0]\n",
    "    max_scale = min(max_scale_x, max_scale_y, 0.5)  # Limit to 0.5 max or lower\n",
    "\n",
    "    # Ensure max_scale is reasonable (avoid 0 or very small)\n",
    "    if max_scale < 0.1:\n",
    "        max_scale = 0.1\n",
    "\n",
    "    scale = random.uniform(0.2, max_scale)\n",
    "    plate_resized = cv2.resize(plate, (0, 0), fx=scale, fy=scale)\n",
    "    h_p, w_p = plate_resized.shape[:2]\n",
    "\n",
    "    # Double-check that the resized plate fits\n",
    "    if w_p >= w_bg or h_p >= h_bg:\n",
    "        # Skip overlay if plate is too big; just return background with empty bbox\n",
    "        return background, (0, 0, 0, 0)\n",
    "\n",
    "    x_offset = random.randint(0, w_bg - w_p)\n",
    "    y_offset = random.randint(0, h_bg - h_p)\n",
    "\n",
    "    roi = background[y_offset:y_offset+h_p, x_offset:x_offset+w_p]\n",
    "    alpha_plate = plate_resized[:, :, 3] / 255.0 if plate_resized.shape[2] == 4 else np.ones((h_p, w_p))\n",
    "    for c in range(3):\n",
    "        roi[:, :, c] = (1 - alpha_plate) * roi[:, :, c] + alpha_plate * plate_resized[:, :, c]\n",
    "    background[y_offset:y_offset+h_p, x_offset:x_offset+w_p] = roi\n",
    "\n",
    "    x_center = (x_offset + w_p/2) / w_bg\n",
    "    y_center = (y_offset + h_p/2) / h_bg\n",
    "    width = w_p / w_bg\n",
    "    height = h_p / h_bg\n",
    "\n",
    "    return background, (x_center, y_center, width, height)\n"
   ]
  },
  {
   "cell_type": "code",
   "execution_count": 9,
   "id": "222b4323-c4d8-4697-8370-f67b9da9e052",
   "metadata": {},
   "outputs": [],
   "source": [
    "# Load lists of images\n",
    "plate_files = [os.path.join(plate_folder, f) for f in os.listdir(plate_folder) if f.lower().endswith(('.png', '.jpg'))]\n",
    "train_bg_files = [os.path.join(background_train_folder, f) for f in os.listdir(background_train_folder) if f.lower().endswith(('.png', '.jpg'))]\n",
    "testval_bg_files = [os.path.join(background_testval_folder, f) for f in os.listdir(background_testval_folder) if f.lower().endswith(('.png', '.jpg'))]\n",
    "\n",
    "# Updated generation parameters\n",
    "num_train_images = len(plate_files) * 3  # ~6500 images\n",
    "num_testval_images = len(plate_files)    # ~2167 images"
   ]
  },
  {
   "cell_type": "code",
   "execution_count": 10,
   "id": "8dc32ae9-9656-4259-b5e5-5b5e8611deac",
   "metadata": {},
   "outputs": [
    {
     "name": "stdout",
     "output_type": "stream",
     "text": [
      "Generating training set...\n"
     ]
    },
    {
     "name": "stderr",
     "output_type": "stream",
     "text": [
      "100%|██████████████████████████████████████████████████████████████████████████████| 6501/6501 [01:37<00:00, 66.99it/s]\n"
     ]
    },
    {
     "name": "stdout",
     "output_type": "stream",
     "text": [
      "Generating test/validation set...\n"
     ]
    },
    {
     "name": "stderr",
     "output_type": "stream",
     "text": [
      "100%|██████████████████████████████████████████████████████████████████████████████| 2167/2167 [00:42<00:00, 51.40it/s]\n"
     ]
    }
   ],
   "source": [
    "# Generate training images\n",
    "print(\"Generating training set...\")\n",
    "for i in tqdm(range(num_train_images)):\n",
    "    bg_path = random.choice(train_bg_files)\n",
    "    plate_path = random.choice(plate_files)\n",
    "\n",
    "    bg = cv2.imread(bg_path)\n",
    "    plate = cv2.imread(plate_path, cv2.IMREAD_UNCHANGED)\n",
    "    bg = cv2.resize(bg, (640, 480))\n",
    "\n",
    "    result_img, bbox = overlay_plate(bg, plate)\n",
    "\n",
    "    img_name = f\"train_{i:05d}.jpg\"\n",
    "    cv2.imwrite(os.path.join(train_output_folder, img_name), result_img)\n",
    "    label_path = os.path.join(train_label_folder, f\"train_{i:05d}.txt\")\n",
    "    with open(label_path, 'w') as f:\n",
    "        f.write(f\"0 {' '.join(map(str, bbox))}\\n\")\n",
    "\n",
    "# Generate test/validation images\n",
    "print(\"Generating test/validation set...\")\n",
    "for i in tqdm(range(num_testval_images)):\n",
    "    bg_path = random.choice(testval_bg_files)\n",
    "    plate_path = random.choice(plate_files)\n",
    "\n",
    "    bg = cv2.imread(bg_path)\n",
    "    plate = cv2.imread(plate_path, cv2.IMREAD_UNCHANGED)\n",
    "    bg = cv2.resize(bg, (640, 480))\n",
    "\n",
    "    result_img, bbox = overlay_plate(bg, plate)\n",
    "\n",
    "    img_name = f\"testval_{i:05d}.jpg\"\n",
    "    cv2.imwrite(os.path.join(test_output_folder, img_name), result_img)\n",
    "    label_path = os.path.join(test_label_folder, f\"testval_{i:05d}.txt\")\n",
    "    with open(label_path, 'w') as f:\n",
    "        f.write(f\"0 {' '.join(map(str, bbox))}\\n\")"
   ]
  }
 ],
 "metadata": {
  "kernelspec": {
   "display_name": "Python 3 (ipykernel)",
   "language": "python",
   "name": "python3"
  },
  "language_info": {
   "codemirror_mode": {
    "name": "ipython",
    "version": 3
   },
   "file_extension": ".py",
   "mimetype": "text/x-python",
   "name": "python",
   "nbconvert_exporter": "python",
   "pygments_lexer": "ipython3",
   "version": "3.12.7"
  }
 },
 "nbformat": 4,
 "nbformat_minor": 5
}
